{
  "nbformat": 4,
  "nbformat_minor": 0,
  "metadata": {
    "colab": {
      "name": "Baseline Model.ipynb",
      "provenance": [],
      "collapsed_sections": []
    },
    "kernelspec": {
      "name": "python3",
      "display_name": "Python 3"
    },
    "language_info": {
      "name": "python"
    }
  },
  "cells": [
    {
      "cell_type": "markdown",
      "metadata": {
        "id": "RilD7xS4bPKo"
      },
      "source": [
        "## Baseline Model\n",
        "\n",
        "Our baseline model is a 3-layer CNN applied with data augmentation."
      ]
    },
    {
      "cell_type": "markdown",
      "metadata": {
        "id": "0lYO_wAWbv_l"
      },
      "source": [
        "Steps to build our model.\n",
        "\n",
        "1.   Image Preprocessing\n",
        "      * Convert to array\n",
        "      * Normalize (1./255)\n",
        "\n",
        "2.   Image Augmentation using Keras Image Data Generator\n",
        "3.   Model Building\n",
        "      * Conv2D\n",
        "      * Conv2D\n",
        "      * Conv2D\n",
        "      * Flatten\n",
        "      * Dense with softmax activation as output\n",
        "\n"
      ]
    },
    {
      "cell_type": "code",
      "metadata": {
        "id": "F6qlqhmuecFL"
      },
      "source": [
        "import cv2\n",
        "from tensorflow.keras.preprocessing.image import img_to_array, ImageDataGenerator\n",
        "import numpy as np"
      ],
      "execution_count": 1,
      "outputs": []
    },
    {
      "cell_type": "code",
      "metadata": {
        "id": "iAgc9leljmOF"
      },
      "source": [
        "train_path = '/content/drive/MyDrive/Omdena/Osun Nigeria/Data/Maize Images/data/train'\n",
        "test_path = '/content/drive/MyDrive/Omdena/Osun Nigeria/Data/Maize Images/data/test'"
      ],
      "execution_count": 42,
      "outputs": []
    },
    {
      "cell_type": "code",
      "metadata": {
        "id": "TeDuU7ukfBL-"
      },
      "source": [
        "# VARIABLES\n",
        "\n",
        "TARGET_SIZE = (224, 224)\n",
        "BATCH_SIZE = 30\n",
        "EPOCHS = 25\n",
        "\n",
        "LEARNING_RATE = 0.001"
      ],
      "execution_count": 92,
      "outputs": []
    },
    {
      "cell_type": "markdown",
      "metadata": {
        "id": "T0Q7-KLdeIrU"
      },
      "source": [
        "# Image Preprocessing"
      ]
    },
    {
      "cell_type": "code",
      "metadata": {
        "id": "hYbuI8rieHNQ"
      },
      "source": [
        "def preprocess(image):\n",
        "  img = cv2.GaussianBlur(image,(5,5),0)\n",
        "  return img_to_array(img)"
      ],
      "execution_count": 24,
      "outputs": []
    },
    {
      "cell_type": "markdown",
      "metadata": {
        "id": "y38UPxfDf0BO"
      },
      "source": [
        "## Image Augmentation"
      ]
    },
    {
      "cell_type": "code",
      "metadata": {
        "id": "05njBgSVfy1s"
      },
      "source": [
        "train_generator = ImageDataGenerator(rescale=1.0/255,\n",
        "                             rotation_range=25,\n",
        "                             width_shift_range=0.1,\n",
        "                             height_shift_range=0.1,\n",
        "                             zoom_range=0.2,\n",
        "                             horizontal_flip=True,\n",
        "                             brightness_range=[0.2, 0.8],\n",
        "                             validation_split=0.1,\n",
        "                             preprocessing_function=preprocess)\n",
        "\n",
        "valid_generator = ImageDataGenerator(rescale=1./255,\n",
        "                                     validation_split = 0.1,\n",
        "                                   preprocessing_function=preprocess)\n",
        "\n",
        "test_generator = ImageDataGenerator(rescale=1./255,\n",
        "                                   preprocessing_function=preprocess)"
      ],
      "execution_count": 94,
      "outputs": []
    },
    {
      "cell_type": "code",
      "metadata": {
        "colab": {
          "base_uri": "https://localhost:8080/"
        },
        "id": "uTfg7HEgbvaJ",
        "outputId": "a429206d-f2e2-41cb-f811-fe0266ca0efd"
      },
      "source": [
        "train_generated = train_generator.flow_from_directory(directory = train_path,\n",
        "                                                    target_size = TARGET_SIZE,\n",
        "                                                    batch_size = BATCH_SIZE,\n",
        "                                                    subset = 'training')\n",
        "\n",
        "validation_generated = valid_generator.flow_from_directory(directory = train_path,\n",
        "                                                    target_size = TARGET_SIZE,\n",
        "                                                    batch_size = BATCH_SIZE,\n",
        "                                                    subset = 'validation')\n",
        "\n",
        "test_generated = valid_generator.flow_from_directory(directory = test_path,\n",
        "                                                    target_size = TARGET_SIZE,\n",
        "                                                    batch_size = BATCH_SIZE)"
      ],
      "execution_count": 95,
      "outputs": [
        {
          "output_type": "stream",
          "name": "stdout",
          "text": [
            "Found 3016 images belonging to 4 classes.\n",
            "Found 332 images belonging to 4 classes.\n",
            "Found 840 images belonging to 4 classes.\n"
          ]
        }
      ]
    },
    {
      "cell_type": "markdown",
      "metadata": {
        "id": "NII08_AgsKMV"
      },
      "source": [
        "## Model Specification"
      ]
    },
    {
      "cell_type": "code",
      "metadata": {
        "id": "tsBYw6uur4P1"
      },
      "source": [
        "from tensorflow.keras.layers import Conv2D, MaxPooling2D, Dense, Flatten, Dropout  \n",
        "from tensorflow.keras.callbacks import EarlyStopping, ModelCheckpoint\n",
        "from tensorflow.keras.optimizers import Adam\n",
        "from tensorflow.keras.models import Sequential"
      ],
      "execution_count": 7,
      "outputs": []
    },
    {
      "cell_type": "code",
      "metadata": {
        "id": "EhdUu64xspPw"
      },
      "source": [
        "model = Sequential()\n",
        "model.add(Conv2D(10, kernel_size=2, activation='relu', input_shape=(224, 224, 3), padding='same'))\n",
        "model.add(MaxPooling2D(2))\n",
        "model.add(Conv2D(10, kernel_size=2, activation='relu', padding='same'))\n",
        "model.add(MaxPooling2D(2))\n",
        "model.add(Flatten())\n",
        "model.add(Dense(4, activation='softmax'))"
      ],
      "execution_count": 96,
      "outputs": []
    },
    {
      "cell_type": "code",
      "metadata": {
        "colab": {
          "base_uri": "https://localhost:8080/"
        },
        "id": "S5xPNEP_IXOf",
        "outputId": "9a689c44-d2bd-4f51-a471-316313d22855"
      },
      "source": [
        "model.summary()"
      ],
      "execution_count": 97,
      "outputs": [
        {
          "output_type": "stream",
          "name": "stdout",
          "text": [
            "Model: \"sequential_2\"\n",
            "_________________________________________________________________\n",
            "Layer (type)                 Output Shape              Param #   \n",
            "=================================================================\n",
            "conv2d_4 (Conv2D)            (None, 224, 224, 10)      130       \n",
            "_________________________________________________________________\n",
            "max_pooling2d_4 (MaxPooling2 (None, 112, 112, 10)      0         \n",
            "_________________________________________________________________\n",
            "conv2d_5 (Conv2D)            (None, 112, 112, 10)      410       \n",
            "_________________________________________________________________\n",
            "max_pooling2d_5 (MaxPooling2 (None, 56, 56, 10)        0         \n",
            "_________________________________________________________________\n",
            "flatten_2 (Flatten)          (None, 31360)             0         \n",
            "_________________________________________________________________\n",
            "dense_2 (Dense)              (None, 4)                 125444    \n",
            "=================================================================\n",
            "Total params: 125,984\n",
            "Trainable params: 125,984\n",
            "Non-trainable params: 0\n",
            "_________________________________________________________________\n"
          ]
        }
      ]
    },
    {
      "cell_type": "code",
      "metadata": {
        "id": "BK4wlpBnIXGz"
      },
      "source": [
        "model.compile(optimizer=Adam(learning_rate = LEARNING_RATE), loss='categorical_crossentropy', metrics=['accuracy'])"
      ],
      "execution_count": 99,
      "outputs": []
    },
    {
      "cell_type": "code",
      "metadata": {
        "id": "CRIslxBiWrla"
      },
      "source": [
        "from tensorflow.keras.callbacks import ModelCheckpoint, EarlyStopping\n",
        "\n",
        "checkpoint = ModelCheckpoint('/content/drive/MyDrive/Omdena/Osun Nigeria/Model/baseline_weights_4.hdf5', monitor='val_loss', save_best_only=True)\n",
        "#early_stop = EarlyStopping(monitor='val_loss', patience=4)\n",
        "\n",
        "callbacks = [checkpoint]\n"
      ],
      "execution_count": 98,
      "outputs": []
    },
    {
      "cell_type": "code",
      "metadata": {
        "colab": {
          "base_uri": "https://localhost:8080/"
        },
        "id": "juAwfJ9VJXbf",
        "outputId": "7b22ccf5-a396-44a0-ca88-6c42b121cbe0"
      },
      "source": [
        "history = model.fit(train_generated,\n",
        "                    steps_per_epoch=len(train_generated)//BATCH_SIZE,\n",
        "                    epochs=EPOCHS,\n",
        "                    validation_data=validation_generated,\n",
        "                    verbose=2,\n",
        "                    shuffle=True,\n",
        "                    callbacks = callbacks)"
      ],
      "execution_count": 100,
      "outputs": [
        {
          "output_type": "stream",
          "name": "stdout",
          "text": [
            "Epoch 1/25\n",
            "3/3 - 41s - loss: 1.4461 - accuracy: 0.2778 - val_loss: 1.5190 - val_accuracy: 0.4759\n",
            "Epoch 2/25\n",
            "3/3 - 8s - loss: 1.2752 - accuracy: 0.5444 - val_loss: 1.3785 - val_accuracy: 0.6265\n",
            "Epoch 3/25\n",
            "3/3 - 7s - loss: 1.1688 - accuracy: 0.6222 - val_loss: 1.0790 - val_accuracy: 0.6084\n",
            "Epoch 4/25\n",
            "3/3 - 8s - loss: 1.0567 - accuracy: 0.6444 - val_loss: 0.7467 - val_accuracy: 0.6898\n",
            "Epoch 5/25\n",
            "3/3 - 8s - loss: 1.0788 - accuracy: 0.4667 - val_loss: 0.7045 - val_accuracy: 0.6988\n",
            "Epoch 6/25\n",
            "3/3 - 7s - loss: 1.0038 - accuracy: 0.6444 - val_loss: 0.7729 - val_accuracy: 0.7199\n",
            "Epoch 7/25\n",
            "3/3 - 7s - loss: 1.0392 - accuracy: 0.6667 - val_loss: 0.8014 - val_accuracy: 0.7410\n",
            "Epoch 8/25\n",
            "3/3 - 7s - loss: 0.6750 - accuracy: 0.8556 - val_loss: 0.9591 - val_accuracy: 0.7620\n",
            "Epoch 9/25\n",
            "3/3 - 7s - loss: 0.9419 - accuracy: 0.7222 - val_loss: 0.5401 - val_accuracy: 0.7861\n",
            "Epoch 10/25\n",
            "3/3 - 7s - loss: 0.8799 - accuracy: 0.6889 - val_loss: 0.8326 - val_accuracy: 0.6657\n",
            "Epoch 11/25\n",
            "3/3 - 7s - loss: 0.9582 - accuracy: 0.5556 - val_loss: 0.6029 - val_accuracy: 0.6928\n",
            "Epoch 12/25\n",
            "3/3 - 8s - loss: 0.7499 - accuracy: 0.7333 - val_loss: 0.6789 - val_accuracy: 0.7741\n",
            "Epoch 13/25\n",
            "3/3 - 8s - loss: 0.9000 - accuracy: 0.6444 - val_loss: 0.5805 - val_accuracy: 0.7922\n",
            "Epoch 14/25\n",
            "3/3 - 8s - loss: 0.7003 - accuracy: 0.7556 - val_loss: 0.7552 - val_accuracy: 0.7319\n",
            "Epoch 15/25\n",
            "3/3 - 7s - loss: 0.7071 - accuracy: 0.7000 - val_loss: 0.4968 - val_accuracy: 0.7892\n",
            "Epoch 16/25\n",
            "3/3 - 7s - loss: 0.6079 - accuracy: 0.7778 - val_loss: 0.4293 - val_accuracy: 0.8072\n",
            "Epoch 17/25\n",
            "3/3 - 7s - loss: 0.6809 - accuracy: 0.7222 - val_loss: 0.4047 - val_accuracy: 0.8163\n",
            "Epoch 18/25\n",
            "3/3 - 7s - loss: 0.7967 - accuracy: 0.6778 - val_loss: 0.4274 - val_accuracy: 0.8042\n",
            "Epoch 19/25\n",
            "3/3 - 7s - loss: 0.6398 - accuracy: 0.7444 - val_loss: 0.4807 - val_accuracy: 0.7831\n",
            "Epoch 20/25\n",
            "3/3 - 7s - loss: 0.6458 - accuracy: 0.7000 - val_loss: 0.3738 - val_accuracy: 0.8193\n",
            "Epoch 21/25\n",
            "3/3 - 7s - loss: 0.6825 - accuracy: 0.7222 - val_loss: 0.3712 - val_accuracy: 0.8373\n",
            "Epoch 22/25\n",
            "3/3 - 7s - loss: 0.5365 - accuracy: 0.7333 - val_loss: 0.4166 - val_accuracy: 0.8102\n",
            "Epoch 23/25\n",
            "3/3 - 7s - loss: 0.6209 - accuracy: 0.7889 - val_loss: 0.4692 - val_accuracy: 0.7199\n",
            "Epoch 24/25\n",
            "3/3 - 7s - loss: 0.6205 - accuracy: 0.7333 - val_loss: 0.3788 - val_accuracy: 0.8253\n",
            "Epoch 25/25\n",
            "3/3 - 7s - loss: 0.4494 - accuracy: 0.8222 - val_loss: 0.3664 - val_accuracy: 0.8283\n"
          ]
        }
      ]
    },
    {
      "cell_type": "code",
      "metadata": {
        "id": "8QW10_cyYpjD"
      },
      "source": [
        "import matplotlib.pyplot as plt"
      ],
      "execution_count": 15,
      "outputs": []
    },
    {
      "cell_type": "code",
      "metadata": {
        "id": "asY1_KPiYkhP"
      },
      "source": [
        "train_acc = history.history['accuracy']\n",
        "val_acc = history.history['val_accuracy']\n",
        "train_loss = history.history['loss']\n",
        "val_loss = history.history['val_loss']\n"
      ],
      "execution_count": 101,
      "outputs": []
    },
    {
      "cell_type": "code",
      "metadata": {
        "id": "7mj-IExXjvDH"
      },
      "source": [
        "def plot_acc(train_acc, val_acc):\n",
        "  plt.figure()\n",
        "  plt.plot(train_acc)\n",
        "  plt.plot(val_acc)\n",
        "  plt.title('Model Accuracy')\n",
        "  plt.xlabel('Epoch')\n",
        "  plt.ylabel('Accuracy')\n",
        "  plt.legend(['Train Accuracy', 'Validation Accuracy'], loc = 'upper right')\n",
        "  plt.show()"
      ],
      "execution_count": 17,
      "outputs": []
    },
    {
      "cell_type": "code",
      "metadata": {
        "id": "_JJAVo4Okl67"
      },
      "source": [
        "def plot_loss(train_loss, val_loss):\n",
        "  plt.figure()\n",
        "  plt.plot(train_loss)\n",
        "  plt.plot(val_loss)\n",
        "  plt.title('Model Loss')\n",
        "  plt.xlabel('Epoch')\n",
        "  plt.ylabel('Loss')\n",
        "  plt.legend(['Train Loss', 'Validation Loss'], loc = 'upper right')\n",
        "  plt.show()"
      ],
      "execution_count": 18,
      "outputs": []
    },
    {
      "cell_type": "code",
      "metadata": {
        "colab": {
          "base_uri": "https://localhost:8080/",
          "height": 295
        },
        "id": "8_In-zC2pEKM",
        "outputId": "f991cb8a-e7f8-4eef-f01e-0ce2bd54e74f"
      },
      "source": [
        "plot_acc(train_acc, val_acc)"
      ],
      "execution_count": 102,
      "outputs": [
        {
          "output_type": "display_data",
          "data": {
            "image/png": "[encoded data removed]",
            "text/plain": [
              "<Figure size 432x288 with 1 Axes>"
            ]
          },
          "metadata": {
            "needs_background": "light"
          }
        }
      ]
    },
    {
      "cell_type": "code",
      "metadata": {
        "colab": {
          "base_uri": "https://localhost:8080/",
          "height": 295
        },
        "id": "6ILisdMbpKre",
        "outputId": "5dcff1c4-234a-4a1e-b2f8-d86f224a36ba"
      },
      "source": [
        "plot_loss(train_loss, val_loss)"
      ],
      "execution_count": 103,
      "outputs": [
        {
          "output_type": "display_data",
          "data": {
            "image/png": "[encoded data removed]",
            "text/plain": [
              "<Figure size 432x288 with 1 Axes>"
            ]
          },
          "metadata": {
            "needs_background": "light"
          }
        }
      ]
    },
    {
      "cell_type": "code",
      "metadata": {
        "id": "ebV0csXFyqmv"
      },
      "source": [
        "#load weights\n",
        "history.model.load_weights('/content/drive/MyDrive/Omdena/Osun Nigeria/Model/baseline_weights_4.hdf5')"
      ],
      "execution_count": 105,
      "outputs": []
    },
    {
      "cell_type": "code",
      "metadata": {
        "colab": {
          "base_uri": "https://localhost:8080/"
        },
        "id": "tOucFwLgzHG4",
        "outputId": "e61a0a27-ebcd-4839-8772-c562fa878240"
      },
      "source": [
        "# evaluate the model\n",
        "\n",
        "acc = history.model.evaluate(test_generated)\n",
        "acc"
      ],
      "execution_count": 106,
      "outputs": [
        {
          "output_type": "stream",
          "name": "stdout",
          "text": [
            "28/28 [==============================] - 11s 402ms/step - loss: 0.4052 - accuracy: 0.8202\n"
          ]
        },
        {
          "output_type": "execute_result",
          "data": {
            "text/plain": [
              "[0.4052419066429138, 0.8202381134033203]"
            ]
          },
          "metadata": {},
          "execution_count": 106
        }
      ]
    },
    {
      "cell_type": "code",
      "metadata": {
        "id": "45bpCo_R77gm"
      },
      "source": [
        "predictions = history.model.predict(test_generated)"
      ],
      "execution_count": 107,
      "outputs": []
    },
    {
      "cell_type": "code",
      "metadata": {
        "colab": {
          "base_uri": "https://localhost:8080/"
        },
        "id": "jDUcmSoW-B7S",
        "outputId": "588d0083-d1f7-4cbd-88b5-eb8bff3b6ea8"
      },
      "source": [
        "# import classification_report\n",
        "from sklearn.metrics import classification_report\n",
        "\n",
        "test_labels = test_generated.classes\n",
        "test_label_name = [cls for cls in test_generated.class_indices.keys()]\n",
        "print(classification_report(test_labels, predictions.argmax(axis=1), target_names=test_label_name))"
      ],
      "execution_count": 111,
      "outputs": [
        {
          "output_type": "stream",
          "name": "stdout",
          "text": [
            "                precision    recall  f1-score   support\n",
            "\n",
            "        Blight       0.30      0.42      0.35       230\n",
            "   Common_Rust       0.30      0.30      0.30       262\n",
            "Gray_Leaf_Spot       0.00      0.00      0.00       115\n",
            "       Healthy       0.26      0.28      0.27       233\n",
            "\n",
            "      accuracy                           0.29       840\n",
            "     macro avg       0.22      0.25      0.23       840\n",
            "  weighted avg       0.25      0.29      0.27       840\n",
            "\n"
          ]
        },
        {
          "output_type": "stream",
          "name": "stderr",
          "text": [
            "/usr/local/lib/python3.7/dist-packages/sklearn/metrics/_classification.py:1272: UndefinedMetricWarning: Precision and F-score are ill-defined and being set to 0.0 in labels with no predicted samples. Use `zero_division` parameter to control this behavior.\n",
            "  _warn_prf(average, modifier, msg_start, len(result))\n"
          ]
        }
      ]
    }
  ]
}