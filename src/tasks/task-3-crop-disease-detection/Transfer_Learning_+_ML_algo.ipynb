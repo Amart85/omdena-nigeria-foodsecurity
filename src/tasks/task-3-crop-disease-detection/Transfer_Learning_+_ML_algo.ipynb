{
  "nbformat": 4,
  "nbformat_minor": 0,
  "metadata": {
    "colab": {
      "name": "Transfer Learning + ML algo.ipynb",
      "provenance": [],
      "collapsed_sections": [],
      "mount_file_id": "1x-_yZX9s3OFMyKszilIDM7dL9bu9vp_Q",
      "authorship_tag": "ABX9TyNbDU1IJWI2h1YJLkQXvbaf"
    },
    "kernelspec": {
      "name": "python3",
      "display_name": "Python 3"
    },
    "language_info": {
      "name": "python"
    },
    "accelerator": "GPU"
  },
  "cells": [
    {
      "cell_type": "markdown",
      "metadata": {
        "id": "Cv83RUONiqcu"
      },
      "source": [
        "## Transfer Learning\n",
        "*This notebook is for creating a model to predict the crop diseases using transfer learning*"
      ]
    },
    {
      "cell_type": "markdown",
      "metadata": {
        "id": "t9fwkMCvjlFw"
      },
      "source": [
        "Steps to build our model.\n",
        "\n",
        "1.   Image Preprocessing\n",
        "      * Convert to array\n",
        "\n",
        "2.   Image Augmentation using Keras Image Data Generator\n",
        "3.   Model Building\n",
        "      * Use Transfer Learning models like VGG16, Xception, MobileVNet, etc. as a feature extractor then fit the traditional ML algorithms such as Random Forest Classifier, SVM, etc. to these extracted features"
      ]
    },
    {
      "cell_type": "markdown",
      "metadata": {
        "id": "yDUUrizUVTkK"
      },
      "source": [
        "## Image Preprocessing"
      ]
    },
    {
      "cell_type": "code",
      "metadata": {
        "id": "juRpNVMvVC7Q"
      },
      "source": [
        "import cv2\n",
        "from tensorflow.keras.preprocessing.image import img_to_array, ImageDataGenerator"
      ],
      "execution_count": 1,
      "outputs": []
    },
    {
      "cell_type": "code",
      "metadata": {
        "id": "e9Sh4LH0VRRK"
      },
      "source": [
        "def preprocess(image):\n",
        "  img = cv2.GaussianBlur(image,(5,5),0)\n",
        "  return img_to_array(img)"
      ],
      "execution_count": 2,
      "outputs": []
    },
    {
      "cell_type": "markdown",
      "metadata": {
        "id": "TqcHJbHXVkR-"
      },
      "source": [
        "## Image Augmentation"
      ]
    },
    {
      "cell_type": "code",
      "metadata": {
        "id": "5xUcKGHGX5tS"
      },
      "source": [
        "# VARIABLES\n",
        "\n",
        "TARGET_SIZE = (224, 224)\n",
        "BATCH_SIZE = 50\n",
        "EPOCHS = 40\n",
        "\n",
        "LEARNING_RATE = 1e-4"
      ],
      "execution_count": 3,
      "outputs": []
    },
    {
      "cell_type": "code",
      "metadata": {
        "id": "aUMrmRsXX1zC"
      },
      "source": [
        "train_path = '/content/drive/MyDrive/Omdena/Osun Nigeria/Data/Maize Images/data/train'\n",
        "test_path = '/content/drive/MyDrive/Omdena/Osun Nigeria/Data/Maize Images/data/test'"
      ],
      "execution_count": 4,
      "outputs": []
    },
    {
      "cell_type": "code",
      "metadata": {
        "id": "_UxSYEgiYabj"
      },
      "source": [
        "train_generator = ImageDataGenerator(rescale=1.0/255,\n",
        "                             rotation_range=30,\n",
        "                             width_shift_range=0.3,\n",
        "                             height_shift_range=0.3,\n",
        "                             zoom_range=0.2,\n",
        "                             shear_range=0.3,\n",
        "                             horizontal_flip=True,\n",
        "                             brightness_range=[0.2, 0.8],\n",
        "                             validation_split=0.2,\n",
        "                             preprocessing_function=preprocess)\n",
        "\n",
        "valid_generator = ImageDataGenerator(rescale=1./255,\n",
        "                                     validation_split = 0.2,\n",
        "                                   preprocessing_function=preprocess)\n",
        "\n",
        "test_generator = ImageDataGenerator(rescale=1./255,\n",
        "                                   preprocessing_function=preprocess)"
      ],
      "execution_count": 5,
      "outputs": []
    },
    {
      "cell_type": "code",
      "metadata": {
        "id": "Q_WMAcEzVpCc"
      },
      "source": [
        "def augment_images(datagen, directory, batch_size, target_size, subset=None):\n",
        "  augmented_imgs = datagen.flow_from_directory(directory = directory,\n",
        "                                                    target_size = TARGET_SIZE,\n",
        "                                                    batch_size = BATCH_SIZE,\n",
        "                                                    subset = subset)\n",
        "  return augmented_imgs"
      ],
      "execution_count": 6,
      "outputs": []
    },
    {
      "cell_type": "code",
      "metadata": {
        "colab": {
          "base_uri": "https://localhost:8080/"
        },
        "id": "6CFvnmKsXr3O",
        "outputId": "e56c268a-c20a-485a-9770-380758856637"
      },
      "source": [
        "train_aug = augment_images(train_generator, train_path, BATCH_SIZE, TARGET_SIZE, 'training')\n",
        "valid_aug = augment_images(valid_generator, train_path, BATCH_SIZE, TARGET_SIZE, 'validation')\n",
        "test_aug = augment_images(test_generator, test_path, BATCH_SIZE, TARGET_SIZE)"
      ],
      "execution_count": 7,
      "outputs": [
        {
          "output_type": "stream",
          "name": "stdout",
          "text": [
            "Found 2681 images belonging to 4 classes.\n",
            "Found 667 images belonging to 4 classes.\n",
            "Found 840 images belonging to 4 classes.\n"
          ]
        }
      ]
    },
    {
      "cell_type": "markdown",
      "metadata": {
        "id": "avZxQWdYaWaX"
      },
      "source": [
        "## Model Specification"
      ]
    },
    {
      "cell_type": "code",
      "metadata": {
        "id": "b9flRXdKci0_"
      },
      "source": [
        "from tensorflow.keras.applications import VGG16, Xception\n",
        "from tensorflow.keras.models import Sequential\n",
        "from tensorflow.keras.layers import Conv2D, MaxPooling2D, Dense, Flatten, Dropout  \n",
        "from tensorflow.keras.optimizers import Adam"
      ],
      "execution_count": 8,
      "outputs": []
    },
    {
      "cell_type": "code",
      "metadata": {
        "id": "xGLS8-g_ebqB"
      },
      "source": [
        "vgg_model = VGG16(input_shape=(224, 224, 3), weights=\"imagenet\", include_top=False)"
      ],
      "execution_count": null,
      "outputs": []
    },
    {
      "cell_type": "code",
      "metadata": {
        "id": "NHHhnFjYjS5J"
      },
      "source": [
        "xception_model = Xception(input_shape=(224, 224, 3), weights=\"imagenet\", include_top=False)"
      ],
      "execution_count": null,
      "outputs": []
    },
    {
      "cell_type": "code",
      "metadata": {
        "id": "icDGMywVqTcx"
      },
      "source": [
        "def extract_features(pretrained_model, data):\n",
        "\n",
        "  for layer in pretrained_model.layers:\n",
        "    layer.trainable = False\n",
        "\n",
        "  feature_extractor = pretrained_model.predict(data)\n",
        "  features = feature_extractor.reshape(feature_extractor.shape[0], -1)\n",
        "\n",
        "  return features"
      ],
      "execution_count": 11,
      "outputs": []
    },
    {
      "cell_type": "code",
      "metadata": {
        "id": "gkPD0cYOrxfa"
      },
      "source": [
        "from sklearn.ensemble import RandomForestClassifier\n",
        "\n",
        "rf_model = RandomForestClassifier(n_estimators=50, random_state=42)\n",
        "\n",
        "rf_train_features = extract_features(xception_model, train_aug)\n",
        "rf_valid_features = extract_features(xception_model, valid_aug)\n",
        "rf_test_features = extract_features(xception_model, test_aug)\n"
      ],
      "execution_count": 17,
      "outputs": []
    },
    {
      "cell_type": "code",
      "metadata": {
        "id": "XK2pm4h0xkPr",
        "colab": {
          "base_uri": "https://localhost:8080/"
        },
        "outputId": "e222dbac-866f-4d98-9b8c-bb4dcdd05f08"
      },
      "source": [
        "rf_model.fit(rf_train_features, train_aug.classes)"
      ],
      "execution_count": 14,
      "outputs": [
        {
          "output_type": "execute_result",
          "data": {
            "text/plain": [
              "RandomForestClassifier(bootstrap=True, ccp_alpha=0.0, class_weight=None,\n",
              "                       criterion='gini', max_depth=None, max_features='auto',\n",
              "                       max_leaf_nodes=None, max_samples=None,\n",
              "                       min_impurity_decrease=0.0, min_impurity_split=None,\n",
              "                       min_samples_leaf=1, min_samples_split=2,\n",
              "                       min_weight_fraction_leaf=0.0, n_estimators=50,\n",
              "                       n_jobs=None, oob_score=False, random_state=42, verbose=0,\n",
              "                       warm_start=False)"
            ]
          },
          "metadata": {},
          "execution_count": 14
        }
      ]
    },
    {
      "cell_type": "code",
      "metadata": {
        "id": "cwJLEh_n0kr8"
      },
      "source": [
        "rf_pred = rf_model.predict(rf_test_features)"
      ],
      "execution_count": 15,
      "outputs": []
    },
    {
      "cell_type": "code",
      "metadata": {
        "colab": {
          "base_uri": "https://localhost:8080/",
          "height": 286
        },
        "id": "Z7cI2-UWvNn5",
        "outputId": "14595e23-efef-4682-a75c-6da7f60eb355"
      },
      "source": [
        "from sklearn.metrics import confusion_matrix\n",
        "import seaborn as sns\n",
        "\n",
        "result = confusion_matrix(test_aug.classes, rf_pred)\n",
        "\n",
        "sns.heatmap(result, annot=True)"
      ],
      "execution_count": 16,
      "outputs": [
        {
          "output_type": "execute_result",
          "data": {
            "text/plain": [
              "<matplotlib.axes._subplots.AxesSubplot at 0x7f0392e787d0>"
            ]
          },
          "metadata": {},
          "execution_count": 16
        },
        {
          "output_type": "display_data",
          "data": {
            "image/png": "[encoded data removed]",
            "text/plain": [
              "<Figure size 432x288 with 2 Axes>"
            ]
          },
          "metadata": {
            "needs_background": "light"
          }
        }
      ]
    },
    {
      "cell_type": "code",
      "metadata": {
        "colab": {
          "base_uri": "https://localhost:8080/"
        },
        "id": "WKet2JgcyRja",
        "outputId": "974c8cbf-f454-4ebd-f38e-332424315f7e"
      },
      "source": [
        "from sklearn.metrics import accuracy_score\n",
        "\n",
        "accuracy_score(test_aug.classes, rf_pred)"
      ],
      "execution_count": null,
      "outputs": [
        {
          "output_type": "execute_result",
          "data": {
            "text/plain": [
              "0.30238095238095236"
            ]
          },
          "metadata": {},
          "execution_count": 39
        }
      ]
    }
  ]
}
