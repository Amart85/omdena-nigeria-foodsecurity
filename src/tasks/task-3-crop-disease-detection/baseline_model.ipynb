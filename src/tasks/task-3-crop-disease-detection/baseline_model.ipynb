{
  "nbformat": 4,
  "nbformat_minor": 0,
  "metadata": {
    "colab": {
      "name": "Baseline Model.ipynb",
      "provenance": [],
      "collapsed_sections": [],
      "mount_file_id": "1vm6F9nIXTJDVdiGSzTs55Ni9s4tUvxem",
      "authorship_tag": "ABX9TyNnFpDJBvjP4L0NOIIXJzXS",
      "include_colab_link": true
    },
    "kernelspec": {
      "name": "python3",
      "display_name": "Python 3"
    },
    "language_info": {
      "name": "python"
    }
  },
  "cells": [
    {
      "cell_type": "markdown",
      "metadata": {
        "id": "view-in-github",
        "colab_type": "text"
      },
      "source": [
        "<a href=\"https://colab.research.google.com/github/OmdenaAI/omdena-nigeria-foodsecurity/blob/main/src/tasks/task-3-crop-disease-detection/baseline_model.ipynb\" target=\"_parent\"><img src=\"https://colab.research.google.com/assets/colab-badge.svg\" alt=\"Open In Colab\"/></a>"
      ]
    },
    {
      "cell_type": "markdown",
      "metadata": {
        "id": "RilD7xS4bPKo"
      },
      "source": [
        "## Baseline Model\n",
        "\n",
        "Our baseline model is a 2-layer CNN applied with data augmentation."
      ]
    },
    {
      "cell_type": "markdown",
      "metadata": {
        "id": "0lYO_wAWbv_l"
      },
      "source": [
        "Steps to build our model.\n",
        "\n",
        "1.   Image Preprocessing\n",
        "      * Convert to array\n",
        "      * Normalize (1./255)\n",
        "\n",
        "2.   Image Augmentation using Keras Image Data Generator\n",
        "3.   Model Building\n",
        "      * Conv2D\n",
        "      * Conv2D\n",
        "      * Conv2D\n",
        "      * Flatten\n",
        "      * Dense with softmax activation as output\n",
        "\n"
      ]
    },
    {
      "cell_type": "code",
      "metadata": {
        "id": "F6qlqhmuecFL"
      },
      "source": [
        "import cv2\n",
        "from tensorflow.keras.preprocessing.image import img_to_array, ImageDataGenerator\n",
        "import numpy as np"
      ],
      "execution_count": 1,
      "outputs": []
    },
    {
      "cell_type": "code",
      "metadata": {
        "id": "iAgc9leljmOF"
      },
      "source": [
        "train_path = '/content/drive/MyDrive/Omdena/Osun Nigeria/Data/Maize Images/data/train'\n",
        "test_path = '/content/drive/MyDrive/Omdena/Osun Nigeria/Data/Maize Images/data/test'"
      ],
      "execution_count": 2,
      "outputs": []
    },
    {
      "cell_type": "code",
      "metadata": {
        "id": "TeDuU7ukfBL-"
      },
      "source": [
        "# VARIABLES\n",
        "\n",
        "TARGET_SIZE = (224, 224)\n",
        "BATCH_SIZE = 30\n",
        "EPOCHS = 25\n",
        "\n",
        "LEARNING_RATE = 0.001"
      ],
      "execution_count": 3,
      "outputs": []
    },
    {
      "cell_type": "markdown",
      "metadata": {
        "id": "T0Q7-KLdeIrU"
      },
      "source": [
        "# Image Preprocessing"
      ]
    },
    {
      "cell_type": "code",
      "metadata": {
        "id": "hYbuI8rieHNQ"
      },
      "source": [
        "def preprocess(image):\n",
        "  img = cv2.GaussianBlur(image,(5,5),0)\n",
        "  return img_to_array(img)"
      ],
      "execution_count": 4,
      "outputs": []
    },
    {
      "cell_type": "markdown",
      "metadata": {
        "id": "y38UPxfDf0BO"
      },
      "source": [
        "## Image Augmentation"
      ]
    },
    {
      "cell_type": "code",
      "metadata": {
        "id": "05njBgSVfy1s"
      },
      "source": [
        "train_generator = ImageDataGenerator(rescale=1.0/255,\n",
        "                             rotation_range=25,\n",
        "                             width_shift_range=0.1,\n",
        "                             height_shift_range=0.1,\n",
        "                             zoom_range=0.2,\n",
        "                             horizontal_flip=True,\n",
        "                             brightness_range=[0.2, 0.8],\n",
        "                             validation_split=0.1,\n",
        "                             preprocessing_function=preprocess)\n",
        "\n",
        "valid_generator = ImageDataGenerator(rescale=1./255,\n",
        "                                     validation_split = 0.1,\n",
        "                                   preprocessing_function=preprocess)\n",
        "\n",
        "test_generator = ImageDataGenerator(rescale=1./255,\n",
        "                                   preprocessing_function=preprocess)"
      ],
      "execution_count": 5,
      "outputs": []
    },
    {
      "cell_type": "code",
      "metadata": {
        "colab": {
          "base_uri": "https://localhost:8080/"
        },
        "id": "uTfg7HEgbvaJ",
        "outputId": "13af781b-8dbd-4c6b-f043-48d1ef23d3f7"
      },
      "source": [
        "train_generated = train_generator.flow_from_directory(directory = train_path,\n",
        "                                                    target_size = TARGET_SIZE,\n",
        "                                                    batch_size = BATCH_SIZE,\n",
        "                                                    subset = 'training')\n",
        "\n",
        "validation_generated = valid_generator.flow_from_directory(directory = train_path,\n",
        "                                                    target_size = TARGET_SIZE,\n",
        "                                                    batch_size = BATCH_SIZE,\n",
        "                                                    subset = 'validation')\n",
        "\n",
        "test_generated = valid_generator.flow_from_directory(directory = test_path,\n",
        "                                                    target_size = TARGET_SIZE,\n",
        "                                                    batch_size = BATCH_SIZE)"
      ],
      "execution_count": 6,
      "outputs": [
        {
          "output_type": "stream",
          "name": "stdout",
          "text": [
            "Found 3016 images belonging to 4 classes.\n",
            "Found 332 images belonging to 4 classes.\n",
            "Found 840 images belonging to 4 classes.\n"
          ]
        }
      ]
    },
    {
      "cell_type": "markdown",
      "metadata": {
        "id": "NII08_AgsKMV"
      },
      "source": [
        "## Model Specification"
      ]
    },
    {
      "cell_type": "code",
      "metadata": {
        "id": "tsBYw6uur4P1"
      },
      "source": [
        "from tensorflow.keras.layers import Conv2D, MaxPooling2D, Dense, Flatten, Dropout  \n",
        "from tensorflow.keras.callbacks import EarlyStopping, ModelCheckpoint\n",
        "from tensorflow.keras.optimizers import Adam\n",
        "from tensorflow.keras.models import Sequential"
      ],
      "execution_count": 7,
      "outputs": []
    },
    {
      "cell_type": "code",
      "metadata": {
        "id": "balBTmck0_qT"
      },
      "source": [
        "def build_model():\n",
        "  model = Sequential()\n",
        "  model.add(Conv2D(10, kernel_size=2, activation='relu', input_shape=(224, 224, 3), padding='same'))\n",
        "  model.add(MaxPooling2D(2))\n",
        "  model.add(Conv2D(10, kernel_size=2, activation='relu', padding='same'))\n",
        "  model.add(MaxPooling2D(2))\n",
        "  model.add(Flatten())\n",
        "  model.add(Dense(4, activation='softmax'))\n",
        "\n",
        "  model.compile(optimizer=Adam(learning_rate = LEARNING_RATE), loss='categorical_crossentropy', metrics=['accuracy'])\n",
        "  return model"
      ],
      "execution_count": 8,
      "outputs": []
    },
    {
      "cell_type": "code",
      "metadata": {
        "id": "VsiRo68C1xIv"
      },
      "source": [
        "model = build_model()"
      ],
      "execution_count": 9,
      "outputs": []
    },
    {
      "cell_type": "code",
      "metadata": {
        "colab": {
          "base_uri": "https://localhost:8080/"
        },
        "id": "S5xPNEP_IXOf",
        "outputId": "7dd15386-7604-451c-d591-bb7e604eea78"
      },
      "source": [
        "model.summary()"
      ],
      "execution_count": 10,
      "outputs": [
        {
          "output_type": "stream",
          "name": "stdout",
          "text": [
            "Model: \"sequential\"\n",
            "_________________________________________________________________\n",
            "Layer (type)                 Output Shape              Param #   \n",
            "=================================================================\n",
            "conv2d (Conv2D)              (None, 224, 224, 10)      130       \n",
            "_________________________________________________________________\n",
            "max_pooling2d (MaxPooling2D) (None, 112, 112, 10)      0         \n",
            "_________________________________________________________________\n",
            "conv2d_1 (Conv2D)            (None, 112, 112, 10)      410       \n",
            "_________________________________________________________________\n",
            "max_pooling2d_1 (MaxPooling2 (None, 56, 56, 10)        0         \n",
            "_________________________________________________________________\n",
            "flatten (Flatten)            (None, 31360)             0         \n",
            "_________________________________________________________________\n",
            "dense (Dense)                (None, 4)                 125444    \n",
            "=================================================================\n",
            "Total params: 125,984\n",
            "Trainable params: 125,984\n",
            "Non-trainable params: 0\n",
            "_________________________________________________________________\n"
          ]
        }
      ]
    },
    {
      "cell_type": "code",
      "metadata": {
        "id": "CRIslxBiWrla"
      },
      "source": [
        "from tensorflow.keras.callbacks import ModelCheckpoint, EarlyStopping\n",
        "\n",
        "checkpoint = ModelCheckpoint('/content/drive/MyDrive/Omdena/Osun Nigeria/Model/baseline_weights_6.hdf5', monitor='val_loss', save_best_only=True)\n",
        "#early_stop = EarlyStopping(monitor='val_loss', patience=4)\n",
        "\n",
        "callbacks = [checkpoint]\n"
      ],
      "execution_count": 12,
      "outputs": []
    },
    {
      "cell_type": "code",
      "metadata": {
        "colab": {
          "base_uri": "https://localhost:8080/"
        },
        "id": "juAwfJ9VJXbf",
        "outputId": "a1fc9782-4407-4f9d-b58c-5841ff0cc923"
      },
      "source": [
        "history = model.fit(train_generated,\n",
        "                    steps_per_epoch=len(train_generated)//BATCH_SIZE,\n",
        "                    epochs=EPOCHS,\n",
        "                    validation_data=validation_generated,\n",
        "                    verbose=2,\n",
        "                    shuffle=True,\n",
        "                    callbacks = callbacks)"
      ],
      "execution_count": 13,
      "outputs": [
        {
          "output_type": "stream",
          "name": "stdout",
          "text": [
            "Epoch 1/25\n",
            "3/3 - 102s - loss: 1.6082 - accuracy: 0.2667 - val_loss: 1.2588 - val_accuracy: 0.2771\n",
            "Epoch 2/25\n",
            "3/3 - 28s - loss: 1.4957 - accuracy: 0.3000 - val_loss: 1.6213 - val_accuracy: 0.3855\n",
            "Epoch 3/25\n",
            "3/3 - 26s - loss: 1.2953 - accuracy: 0.5556 - val_loss: 1.1080 - val_accuracy: 0.4699\n",
            "Epoch 4/25\n",
            "3/3 - 24s - loss: 1.2215 - accuracy: 0.5111 - val_loss: 0.9633 - val_accuracy: 0.6054\n",
            "Epoch 5/25\n",
            "3/3 - 26s - loss: 1.1586 - accuracy: 0.5222 - val_loss: 1.1332 - val_accuracy: 0.5904\n",
            "Epoch 6/25\n",
            "3/3 - 24s - loss: 1.0816 - accuracy: 0.5444 - val_loss: 0.9417 - val_accuracy: 0.6536\n",
            "Epoch 7/25\n",
            "3/3 - 25s - loss: 0.8990 - accuracy: 0.7222 - val_loss: 0.8844 - val_accuracy: 0.6627\n",
            "Epoch 8/25\n",
            "3/3 - 21s - loss: 0.8824 - accuracy: 0.6778 - val_loss: 0.7624 - val_accuracy: 0.7139\n",
            "Epoch 9/25\n",
            "3/3 - 26s - loss: 0.8198 - accuracy: 0.7444 - val_loss: 0.6621 - val_accuracy: 0.7440\n",
            "Epoch 10/25\n",
            "3/3 - 20s - loss: 0.7922 - accuracy: 0.7222 - val_loss: 0.6762 - val_accuracy: 0.7229\n",
            "Epoch 11/25\n",
            "3/3 - 20s - loss: 0.7921 - accuracy: 0.7222 - val_loss: 0.5647 - val_accuracy: 0.7470\n",
            "Epoch 12/25\n",
            "3/3 - 19s - loss: 0.7263 - accuracy: 0.7111 - val_loss: 0.6972 - val_accuracy: 0.7169\n",
            "Epoch 13/25\n",
            "3/3 - 20s - loss: 0.7536 - accuracy: 0.7000 - val_loss: 0.5640 - val_accuracy: 0.7229\n",
            "Epoch 14/25\n",
            "3/3 - 17s - loss: 0.6949 - accuracy: 0.7000 - val_loss: 0.6232 - val_accuracy: 0.6988\n",
            "Epoch 15/25\n",
            "3/3 - 19s - loss: 0.8369 - accuracy: 0.6778 - val_loss: 0.4838 - val_accuracy: 0.7922\n",
            "Epoch 16/25\n",
            "3/3 - 19s - loss: 0.6394 - accuracy: 0.7667 - val_loss: 0.5306 - val_accuracy: 0.7922\n",
            "Epoch 17/25\n",
            "3/3 - 16s - loss: 0.5917 - accuracy: 0.8222 - val_loss: 0.6383 - val_accuracy: 0.7982\n",
            "Epoch 18/25\n",
            "3/3 - 16s - loss: 0.7099 - accuracy: 0.7444 - val_loss: 0.4139 - val_accuracy: 0.8042\n",
            "Epoch 19/25\n",
            "3/3 - 17s - loss: 0.5038 - accuracy: 0.8111 - val_loss: 0.5088 - val_accuracy: 0.7681\n",
            "Epoch 20/25\n",
            "3/3 - 16s - loss: 0.5197 - accuracy: 0.8000 - val_loss: 0.4500 - val_accuracy: 0.8072\n",
            "Epoch 21/25\n",
            "3/3 - 13s - loss: 0.4404 - accuracy: 0.8553 - val_loss: 0.5178 - val_accuracy: 0.8163\n",
            "Epoch 22/25\n",
            "3/3 - 14s - loss: 0.7642 - accuracy: 0.7444 - val_loss: 0.4524 - val_accuracy: 0.8133\n",
            "Epoch 23/25\n",
            "3/3 - 15s - loss: 0.5440 - accuracy: 0.7667 - val_loss: 0.6431 - val_accuracy: 0.7108\n",
            "Epoch 24/25\n",
            "3/3 - 15s - loss: 0.8166 - accuracy: 0.7333 - val_loss: 0.5448 - val_accuracy: 0.7169\n",
            "Epoch 25/25\n",
            "3/3 - 14s - loss: 0.5906 - accuracy: 0.7556 - val_loss: 0.4093 - val_accuracy: 0.8072\n"
          ]
        }
      ]
    },
    {
      "cell_type": "code",
      "metadata": {
        "id": "8QW10_cyYpjD"
      },
      "source": [
        "import matplotlib.pyplot as plt"
      ],
      "execution_count": 14,
      "outputs": []
    },
    {
      "cell_type": "code",
      "metadata": {
        "id": "asY1_KPiYkhP"
      },
      "source": [
        "train_acc = history.history['accuracy']\n",
        "val_acc = history.history['val_accuracy']\n",
        "train_loss = history.history['loss']\n",
        "val_loss = history.history['val_loss']\n"
      ],
      "execution_count": 15,
      "outputs": []
    },
    {
      "cell_type": "code",
      "metadata": {
        "id": "7mj-IExXjvDH"
      },
      "source": [
        "def plot_acc(train_acc, val_acc):\n",
        "  plt.figure()\n",
        "  plt.plot(train_acc)\n",
        "  plt.plot(val_acc)\n",
        "  plt.title('Model Accuracy')\n",
        "  plt.xlabel('Epoch')\n",
        "  plt.ylabel('Accuracy')\n",
        "  plt.legend(['Train Accuracy', 'Validation Accuracy'], loc = 'upper right')\n",
        "  plt.show()"
      ],
      "execution_count": 16,
      "outputs": []
    },
    {
      "cell_type": "code",
      "metadata": {
        "id": "_JJAVo4Okl67"
      },
      "source": [
        "def plot_loss(train_loss, val_loss):\n",
        "  plt.figure()\n",
        "  plt.plot(train_loss)\n",
        "  plt.plot(val_loss)\n",
        "  plt.title('Model Loss')\n",
        "  plt.xlabel('Epoch')\n",
        "  plt.ylabel('Loss')\n",
        "  plt.legend(['Train Loss', 'Validation Loss'], loc = 'upper right')\n",
        "  plt.show()"
      ],
      "execution_count": 17,
      "outputs": []
    },
    {
      "cell_type": "code",
      "metadata": {
        "colab": {
          "base_uri": "https://localhost:8080/",
          "height": 295
        },
        "id": "8_In-zC2pEKM",
        "outputId": "f7872d1a-48db-4811-e6b8-0674326d8c10"
      },
      "source": [
        "plot_acc(train_acc, val_acc)"
      ],
      "execution_count": 18,
      "outputs": [
        {
          "output_type": "display_data",
          "data": {
            "image/png": "[encoded data removed]",
            "text/plain": [
              "<Figure size 432x288 with 1 Axes>"
            ]
          },
          "metadata": {
            "needs_background": "light"
          }
        }
      ]
    },
    {
      "cell_type": "code",
      "metadata": {
        "colab": {
          "base_uri": "https://localhost:8080/",
          "height": 295
        },
        "id": "6ILisdMbpKre",
        "outputId": "57a0cb4e-54a8-4718-d629-6b6763a2f121"
      },
      "source": [
        "plot_loss(train_loss, val_loss)"
      ],
      "execution_count": 19,
      "outputs": [
        {
          "output_type": "display_data",
          "data": {
            "image/png": "[encoded data removed]",
            "text/plain": [
              "<Figure size 432x288 with 1 Axes>"
            ]
          },
          "metadata": {
            "needs_background": "light"
          }
        }
      ]
    },
    {
      "cell_type": "code",
      "metadata": {
        "colab": {
          "base_uri": "https://localhost:8080/"
        },
        "id": "tOucFwLgzHG4",
        "outputId": "feb612f0-eb91-4b6b-c43e-c1aa416bd83a"
      },
      "source": [
        "# evaluate the model\n",
        "\n",
        "acc = history.model.evaluate(test_generated)\n",
        "acc"
      ],
      "execution_count": 20,
      "outputs": [
        {
          "output_type": "stream",
          "name": "stdout",
          "text": [
            "28/28 [==============================] - 199s 7s/step - loss: 0.4812 - accuracy: 0.8036\n"
          ]
        },
        {
          "output_type": "execute_result",
          "data": {
            "text/plain": [
              "[0.4811790883541107, 0.8035714030265808]"
            ]
          },
          "metadata": {},
          "execution_count": 20
        }
      ]
    },
    {
      "cell_type": "code",
      "metadata": {
        "id": "TL4R6C71kHUE"
      },
      "source": [
        "new_model = build_model()\n",
        "new_model.load_weights('/content/drive/MyDrive/Omdena/Osun Nigeria/Model/baseline_weights_6.hdf5')"
      ],
      "execution_count": 21,
      "outputs": []
    },
    {
      "cell_type": "code",
      "metadata": {
        "id": "45bpCo_R77gm"
      },
      "source": [
        "predictions = new_model.predict(test_generated)"
      ],
      "execution_count": 22,
      "outputs": []
    },
    {
      "cell_type": "code",
      "metadata": {
        "colab": {
          "base_uri": "https://localhost:8080/"
        },
        "id": "jDUcmSoW-B7S",
        "outputId": "3ffbd6c4-708d-44de-dbcf-a09896441ecd"
      },
      "source": [
        "# import classification_report\n",
        "from sklearn.metrics import classification_report\n",
        "\n",
        "test_labels = test_generated.classes\n",
        "test_label_name = [cls for cls in test_generated.class_indices.keys()]\n",
        "print(classification_report(test_labels, predictions.argmax(axis=1), target_names=test_label_name))"
      ],
      "execution_count": 25,
      "outputs": [
        {
          "output_type": "stream",
          "name": "stdout",
          "text": [
            "                precision    recall  f1-score   support\n",
            "\n",
            "        Blight       0.29      0.40      0.34       230\n",
            "   Common_Rust       0.30      0.31      0.31       262\n",
            "Gray_Leaf_Spot       0.00      0.00      0.00       115\n",
            "       Healthy       0.30      0.33      0.31       233\n",
            "\n",
            "      accuracy                           0.30       840\n",
            "     macro avg       0.22      0.26      0.24       840\n",
            "  weighted avg       0.26      0.30      0.27       840\n",
            "\n"
          ]
        }
      ]
    },
    {
      "cell_type": "code",
      "metadata": {
        "colab": {
          "base_uri": "https://localhost:8080/"
        },
        "id": "G-dLZAbkrZSc",
        "outputId": "28c0205a-582b-4919-f488-49e66d8e31b8"
      },
      "source": [
        "from sklearn.metrics import confusion_matrix\n",
        "\n",
        "result = confusion_matrix(test_labels, predictions.argmax(axis=1))\n",
        "print(result)"
      ],
      "execution_count": 29,
      "outputs": [
        {
          "output_type": "stream",
          "name": "stdout",
          "text": [
            "[[91 84  0 55]\n",
            " [94 82  1 85]\n",
            " [42 37  0 36]\n",
            " [84 71  2 76]]\n"
          ]
        }
      ]
    },
    {
      "cell_type": "code",
      "metadata": {
        "colab": {
          "base_uri": "https://localhost:8080/",
          "height": 432
        },
        "id": "jB1-0Ls_sqBx",
        "outputId": "eacca1f7-4b36-45be-88b1-7627a2f79ae4"
      },
      "source": [
        "import seaborn as sns\n",
        "import pandas as pd\n",
        "\n",
        "result_df = pd.DataFrame(result, columns=test_label_name, index = test_label_name)\n",
        "result_df.index.name = 'Actual'\n",
        "result_df.columns.name = 'Predicted'\n",
        "plt.figure(figsize = (7,5))\n",
        "sns.set(font_scale=1)\n",
        "sns.heatmap(result_df, cmap='Greens', annot=True,annot_kws={\"size\": 12})"
      ],
      "execution_count": 48,
      "outputs": [
        {
          "output_type": "execute_result",
          "data": {
            "text/plain": [
              "<matplotlib.axes._subplots.AxesSubplot at 0x7f048720fed0>"
            ]
          },
          "metadata": {},
          "execution_count": 48
        },
        {
          "output_type": "display_data",
          "data": {
            "image/png": "[encoded data removed]",
            "text/plain": [
              "<Figure size 504x360 with 2 Axes>"
            ]
          },
          "metadata": {}
        }
      ]
    }
  ]
}