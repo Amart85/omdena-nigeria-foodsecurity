{
  "nbformat": 4,
  "nbformat_minor": 0,
  "metadata": {
    "colab": {
      "name": "Transfer Learning + Own FC.ipynb",
      "provenance": [],
      "collapsed_sections": [],
      "mount_file_id": "1YS0dblOH63232Px3FtQF5u0S3sNN2O1I",
      "authorship_tag": "ABX9TyPZAHFu8lhgbiPB9zH5cMiN"
    },
    "kernelspec": {
      "name": "python3",
      "display_name": "Python 3"
    },
    "language_info": {
      "name": "python"
    },
    "accelerator": "GPU"
  },
  "cells": [
    {
      "cell_type": "markdown",
      "metadata": {
        "id": "Cv83RUONiqcu"
      },
      "source": [
        "## Transfer Learning\n",
        "*This notebook is for creating a model to predict the crop diseases using transfer learning*"
      ]
    },
    {
      "cell_type": "markdown",
      "metadata": {
        "id": "t9fwkMCvjlFw"
      },
      "source": [
        "Steps to build our model.\n",
        "\n",
        "1.   Image Preprocessing\n",
        "      * Convert to array\n",
        "\n",
        "2.   Image Augmentation using Keras Image Data Generator\n",
        "3.   Model Building\n",
        "      * Use Transfer Learning models like VGG16, Xception, MobileVNet, etc.\n",
        "\n",
        "*Create a function that will allow us to run the model over and over again to check for optimal parameters*"
      ]
    },
    {
      "cell_type": "markdown",
      "metadata": {
        "id": "mlMO_oYrVSHD"
      },
      "source": [
        "Focal Loss code copied from https://medium.com/swlh/multi-class-classification-with-focal-loss-for-imbalanced-datasets-c478700e65f5"
      ]
    },
    {
      "cell_type": "markdown",
      "metadata": {
        "id": "yDUUrizUVTkK"
      },
      "source": [
        "## Image Preprocessing"
      ]
    },
    {
      "cell_type": "code",
      "metadata": {
        "id": "juRpNVMvVC7Q"
      },
      "source": [
        "import cv2\n",
        "from tensorflow.keras.preprocessing.image import img_to_array, ImageDataGenerator"
      ],
      "execution_count": 1,
      "outputs": []
    },
    {
      "cell_type": "code",
      "metadata": {
        "id": "e9Sh4LH0VRRK"
      },
      "source": [
        "def preprocess(image):\n",
        "  img = cv2.GaussianBlur(image,(5,5),0)\n",
        "  return img_to_array(img)"
      ],
      "execution_count": 2,
      "outputs": []
    },
    {
      "cell_type": "markdown",
      "metadata": {
        "id": "TqcHJbHXVkR-"
      },
      "source": [
        "## Image Augmentation"
      ]
    },
    {
      "cell_type": "code",
      "metadata": {
        "id": "5xUcKGHGX5tS"
      },
      "source": [
        "# VARIABLES\n",
        "\n",
        "TARGET_SIZE = (224, 224)\n",
        "BATCH_SIZE = 50\n",
        "EPOCHS = 40\n",
        "\n",
        "LEARNING_RATE = 1e-4"
      ],
      "execution_count": 3,
      "outputs": []
    },
    {
      "cell_type": "code",
      "metadata": {
        "id": "aUMrmRsXX1zC"
      },
      "source": [
        "train_path = '/content/drive/MyDrive/Omdena/Osun Nigeria/Data/Maize Images/data/train'\n",
        "test_path = '/content/drive/MyDrive/Omdena/Osun Nigeria/Data/Maize Images/data/test'"
      ],
      "execution_count": 4,
      "outputs": []
    },
    {
      "cell_type": "code",
      "metadata": {
        "id": "_UxSYEgiYabj"
      },
      "source": [
        "train_generator = ImageDataGenerator(rescale=1.0/255,\n",
        "                             rotation_range=30,\n",
        "                             width_shift_range=0.3,\n",
        "                             height_shift_range=0.3,\n",
        "                             zoom_range=0.2,\n",
        "                             shear_range=0.3,\n",
        "                             horizontal_flip=True,\n",
        "                             brightness_range=[0.2, 0.8],\n",
        "                             validation_split=0.2,\n",
        "                             preprocessing_function=preprocess)\n",
        "\n",
        "valid_generator = ImageDataGenerator(rescale=1./255,\n",
        "                                     validation_split = 0.2,\n",
        "                                   preprocessing_function=preprocess)\n",
        "\n",
        "test_generator = ImageDataGenerator(rescale=1./255,\n",
        "                                   preprocessing_function=preprocess)"
      ],
      "execution_count": 5,
      "outputs": []
    },
    {
      "cell_type": "code",
      "metadata": {
        "id": "Q_WMAcEzVpCc"
      },
      "source": [
        "def augment_images(datagen, directory, batch_size, target_size, subset=None):\n",
        "  augmented_imgs = datagen.flow_from_directory(directory = directory,\n",
        "                                                    target_size = TARGET_SIZE,\n",
        "                                                    batch_size = BATCH_SIZE,\n",
        "                                                    subset = subset)\n",
        "  return augmented_imgs"
      ],
      "execution_count": 6,
      "outputs": []
    },
    {
      "cell_type": "code",
      "metadata": {
        "colab": {
          "base_uri": "https://localhost:8080/"
        },
        "id": "6CFvnmKsXr3O",
        "outputId": "0b4c985e-7cf6-424d-90a0-eec894778c6f"
      },
      "source": [
        "train_aug = augment_images(train_generator, train_path, BATCH_SIZE, TARGET_SIZE, 'training')\n",
        "valid_aug = augment_images(valid_generator, train_path, BATCH_SIZE, TARGET_SIZE, 'validation')\n",
        "test_aug = augment_images(test_generator, test_path, BATCH_SIZE, TARGET_SIZE)"
      ],
      "execution_count": 7,
      "outputs": [
        {
          "output_type": "stream",
          "name": "stdout",
          "text": [
            "Found 2681 images belonging to 4 classes.\n",
            "Found 667 images belonging to 4 classes.\n",
            "Found 840 images belonging to 4 classes.\n"
          ]
        }
      ]
    },
    {
      "cell_type": "markdown",
      "metadata": {
        "id": "avZxQWdYaWaX"
      },
      "source": [
        "## Model Specification"
      ]
    },
    {
      "cell_type": "code",
      "metadata": {
        "id": "b9flRXdKci0_"
      },
      "source": [
        "from tensorflow.keras.applications import VGG16, Xception\n",
        "from tensorflow.keras.models import Sequential\n",
        "from tensorflow.keras.layers import Conv2D, MaxPooling2D, Dense, Flatten, Dropout  \n",
        "from tensorflow.keras.optimizers import Adam\n",
        "import tensorflow as tf"
      ],
      "execution_count": 8,
      "outputs": []
    },
    {
      "cell_type": "code",
      "metadata": {
        "id": "xGLS8-g_ebqB",
        "colab": {
          "base_uri": "https://localhost:8080/"
        },
        "outputId": "8e7cf750-b2e9-4b78-87f0-7fd40d393ff9"
      },
      "source": [
        "vgg_model = VGG16(input_shape=(224, 224, 3), weights=\"imagenet\", include_top=False)"
      ],
      "execution_count": 9,
      "outputs": [
        {
          "output_type": "stream",
          "name": "stdout",
          "text": [
            "Downloading data from https://storage.googleapis.com/tensorflow/keras-applications/vgg16/vgg16_weights_tf_dim_ordering_tf_kernels_notop.h5\n",
            "58892288/58889256 [==============================] - 1s 0us/step\n",
            "58900480/58889256 [==============================] - 1s 0us/step\n"
          ]
        }
      ]
    },
    {
      "cell_type": "code",
      "metadata": {
        "id": "NHHhnFjYjS5J",
        "colab": {
          "base_uri": "https://localhost:8080/"
        },
        "outputId": "ac3961d1-0866-4e76-b396-c68f5c3b8bf9"
      },
      "source": [
        "xception_model = Xception(input_shape=(224, 224, 3), weights=\"imagenet\", include_top=False)"
      ],
      "execution_count": 10,
      "outputs": [
        {
          "output_type": "stream",
          "name": "stdout",
          "text": [
            "Downloading data from https://storage.googleapis.com/tensorflow/keras-applications/xception/xception_weights_tf_dim_ordering_tf_kernels_notop.h5\n",
            "83689472/83683744 [==============================] - 1s 0us/step\n",
            "83697664/83683744 [==============================] - 1s 0us/step\n"
          ]
        }
      ]
    },
    {
      "cell_type": "code",
      "metadata": {
        "id": "1RxdFfqcLJ7T"
      },
      "source": [
        "def focal_loss(gamma=2., alpha=4.):\n",
        "\n",
        "    gamma = float(gamma)\n",
        "    alpha = float(alpha)\n",
        "\n",
        "    def focal_loss_fixed(y_true, y_pred):\n",
        "        \"\"\"Focal loss for multi-classification\n",
        "        FL(p_t)=-alpha(1-p_t)^{gamma}ln(p_t)\n",
        "        Notice: y_pred is probability after softmax\n",
        "        gradient is d(Fl)/d(p_t) not d(Fl)/d(x) as described in paper\n",
        "        d(Fl)/d(p_t) * [p_t(1-p_t)] = d(Fl)/d(x)\n",
        "        Focal Loss for Dense Object Detection\n",
        "        https://arxiv.org/abs/1708.02002\n",
        "        Arguments:\n",
        "            y_true {tensor} -- ground truth labels, shape of [batch_size, num_cls]\n",
        "            y_pred {tensor} -- model's output, shape of [batch_size, num_cls]\n",
        "        Keyword Arguments:\n",
        "            gamma {float} -- (default: {2.0})\n",
        "            alpha {float} -- (default: {4.0})\n",
        "        Returns:\n",
        "            [tensor] -- loss.\n",
        "        \"\"\"\n",
        "        epsilon = 1.e-9\n",
        "        y_true = tf.convert_to_tensor(y_true, tf.float32)\n",
        "        y_pred = tf.convert_to_tensor(y_pred, tf.float32)\n",
        "\n",
        "        model_out = tf.add(y_pred, epsilon)\n",
        "        ce = tf.multiply(y_true, -tf.math.log(model_out))\n",
        "        weight = tf.multiply(y_true, tf.pow(tf.subtract(1., model_out), gamma))\n",
        "        fl = tf.multiply(alpha, tf.multiply(weight, ce))\n",
        "        reduced_fl = tf.reduce_max(fl, axis=1)\n",
        "        return tf.reduce_mean(reduced_fl)\n",
        "    return focal_loss_fixed"
      ],
      "execution_count": 11,
      "outputs": []
    },
    {
      "cell_type": "code",
      "metadata": {
        "id": "INjAjXLFaZbT"
      },
      "source": [
        "def build_model(pretrained_model):\n",
        "\n",
        "  for layer in pretrained_model.layers:\n",
        "    layer.trainable = False\n",
        "\n",
        "  model = Sequential()\n",
        "  model.add(pretrained_model)\n",
        "\n",
        "  #Adding our own classifier\n",
        "  model.add(Flatten())\n",
        "  model.add(Dense(256, activation='relu'))\n",
        "  model.add(Dropout(0.5))\n",
        "  model.add(Dense(4, activation='softmax'))\n",
        "\n",
        "  model.compile(optimizer=Adam(learning_rate = LEARNING_RATE), loss=focal_loss(alpha=1), metrics=['accuracy'])\n",
        "\n",
        "  return model"
      ],
      "execution_count": 12,
      "outputs": []
    },
    {
      "cell_type": "code",
      "metadata": {
        "id": "JDIGL5f0ju80"
      },
      "source": [
        "from tensorflow.keras.callbacks import ModelCheckpoint, EarlyStopping\n",
        "\n",
        "def train_model(model, name):\n",
        "\n",
        "  checkpoint = ModelCheckpoint(f'/content/drive/MyDrive/Omdena/Osun Nigeria/Model/weights_{name}.hdf5', monitor='val_loss', save_best_only=True)\n",
        "\n",
        "  stop = EarlyStopping(monitor=\"val_loss\", patience=4)\n",
        "\n",
        "  history = model.fit(train_aug,\n",
        "                    steps_per_epoch=len(train_aug)//BATCH_SIZE,\n",
        "                    epochs=EPOCHS,\n",
        "                    validation_data=valid_aug,\n",
        "                    verbose=2,\n",
        "                    shuffle=True,\n",
        "                    callbacks = [checkpoint])\n",
        "  return history"
      ],
      "execution_count": 13,
      "outputs": []
    },
    {
      "cell_type": "code",
      "metadata": {
        "id": "n2QwN9Wzk3u_",
        "colab": {
          "base_uri": "https://localhost:8080/"
        },
        "outputId": "c5e7c64f-adc4-4aa4-c14a-b5ff815cdd2d"
      },
      "source": [
        "xcep_hist = train_model(build_model(xception_model), 'xception_fc')"
      ],
      "execution_count": 14,
      "outputs": [
        {
          "output_type": "stream",
          "name": "stdout",
          "text": [
            "Epoch 1/40\n",
            "1/1 - 370s - loss: 1.3171 - accuracy: 0.1600 - val_loss: 1.6015 - val_accuracy: 0.3208\n"
          ]
        },
        {
          "output_type": "stream",
          "name": "stderr",
          "text": [
            "/usr/local/lib/python3.7/dist-packages/keras/utils/generic_utils.py:497: CustomMaskWarning: Custom mask layers require a config and must override get_config. When loading, the custom mask layer must be passed to the custom_objects argument.\n",
            "  category=CustomMaskWarning)\n"
          ]
        },
        {
          "output_type": "stream",
          "name": "stdout",
          "text": [
            "Epoch 2/40\n",
            "1/1 - 31s - loss: 1.7921 - accuracy: 0.3800 - val_loss: 1.2171 - val_accuracy: 0.4798\n",
            "Epoch 3/40\n",
            "1/1 - 30s - loss: 1.7438 - accuracy: 0.3200 - val_loss: 1.6532 - val_accuracy: 0.3328\n",
            "Epoch 4/40\n",
            "1/1 - 30s - loss: 0.9432 - accuracy: 0.4400 - val_loss: 1.4896 - val_accuracy: 0.3553\n",
            "Epoch 5/40\n",
            "1/1 - 27s - loss: 1.5324 - accuracy: 0.3600 - val_loss: 0.8848 - val_accuracy: 0.5697\n",
            "Epoch 6/40\n",
            "1/1 - 28s - loss: 0.7871 - accuracy: 0.5600 - val_loss: 0.6567 - val_accuracy: 0.6222\n",
            "Epoch 7/40\n",
            "1/1 - 27s - loss: 0.8011 - accuracy: 0.6000 - val_loss: 0.3341 - val_accuracy: 0.6807\n",
            "Epoch 8/40\n",
            "1/1 - 24s - loss: 0.5756 - accuracy: 0.6000 - val_loss: 0.1870 - val_accuracy: 0.8471\n",
            "Epoch 9/40\n",
            "1/1 - 24s - loss: 0.8024 - accuracy: 0.4800 - val_loss: 0.2705 - val_accuracy: 0.7841\n",
            "Epoch 10/40\n",
            "1/1 - 23s - loss: 0.5361 - accuracy: 0.7000 - val_loss: 0.3480 - val_accuracy: 0.7766\n",
            "Epoch 11/40\n",
            "1/1 - 24s - loss: 0.7674 - accuracy: 0.6200 - val_loss: 0.3399 - val_accuracy: 0.7811\n",
            "Epoch 12/40\n",
            "1/1 - 23s - loss: 0.5531 - accuracy: 0.6600 - val_loss: 0.3265 - val_accuracy: 0.7931\n",
            "Epoch 13/40\n",
            "1/1 - 20s - loss: 0.4035 - accuracy: 0.7800 - val_loss: 0.3540 - val_accuracy: 0.7601\n",
            "Epoch 14/40\n",
            "1/1 - 23s - loss: 0.6080 - accuracy: 0.7000 - val_loss: 0.4494 - val_accuracy: 0.6807\n",
            "Epoch 15/40\n",
            "1/1 - 21s - loss: 0.6829 - accuracy: 0.5800 - val_loss: 0.4885 - val_accuracy: 0.6432\n",
            "Epoch 16/40\n",
            "1/1 - 23s - loss: 0.5840 - accuracy: 0.7000 - val_loss: 0.4678 - val_accuracy: 0.6447\n",
            "Epoch 17/40\n",
            "1/1 - 23s - loss: 0.4183 - accuracy: 0.7200 - val_loss: 0.4209 - val_accuracy: 0.6627\n",
            "Epoch 18/40\n",
            "1/1 - 22s - loss: 0.2622 - accuracy: 0.8400 - val_loss: 0.3804 - val_accuracy: 0.6897\n",
            "Epoch 19/40\n",
            "1/1 - 21s - loss: 0.5718 - accuracy: 0.6800 - val_loss: 0.3459 - val_accuracy: 0.7031\n",
            "Epoch 20/40\n",
            "1/1 - 20s - loss: 0.4488 - accuracy: 0.6600 - val_loss: 0.3079 - val_accuracy: 0.7106\n",
            "Epoch 21/40\n",
            "1/1 - 17s - loss: 0.3687 - accuracy: 0.6800 - val_loss: 0.2641 - val_accuracy: 0.7376\n",
            "Epoch 22/40\n",
            "1/1 - 22s - loss: 0.5098 - accuracy: 0.6400 - val_loss: 0.2196 - val_accuracy: 0.7706\n",
            "Epoch 23/40\n",
            "1/1 - 14s - loss: 0.1866 - accuracy: 0.7400 - val_loss: 0.1939 - val_accuracy: 0.7841\n",
            "Epoch 24/40\n",
            "1/1 - 17s - loss: 0.3934 - accuracy: 0.6800 - val_loss: 0.1731 - val_accuracy: 0.8246\n",
            "Epoch 25/40\n",
            "1/1 - 13s - loss: 0.3810 - accuracy: 0.6600 - val_loss: 0.1638 - val_accuracy: 0.8336\n",
            "Epoch 26/40\n",
            "1/1 - 18s - loss: 0.2877 - accuracy: 0.7600 - val_loss: 0.1602 - val_accuracy: 0.8426\n",
            "Epoch 27/40\n",
            "1/1 - 19s - loss: 0.5226 - accuracy: 0.6600 - val_loss: 0.1607 - val_accuracy: 0.8471\n",
            "Epoch 28/40\n",
            "1/1 - 15s - loss: 0.3791 - accuracy: 0.6452 - val_loss: 0.1648 - val_accuracy: 0.8366\n",
            "Epoch 29/40\n",
            "1/1 - 14s - loss: 0.1983 - accuracy: 0.7800 - val_loss: 0.1701 - val_accuracy: 0.8321\n",
            "Epoch 30/40\n",
            "1/1 - 14s - loss: 0.3353 - accuracy: 0.7400 - val_loss: 0.1755 - val_accuracy: 0.8171\n",
            "Epoch 31/40\n",
            "1/1 - 15s - loss: 0.1603 - accuracy: 0.8800 - val_loss: 0.1791 - val_accuracy: 0.8156\n",
            "Epoch 32/40\n",
            "1/1 - 16s - loss: 0.3019 - accuracy: 0.8000 - val_loss: 0.1788 - val_accuracy: 0.8126\n",
            "Epoch 33/40\n",
            "1/1 - 16s - loss: 0.2498 - accuracy: 0.7000 - val_loss: 0.1752 - val_accuracy: 0.8141\n",
            "Epoch 34/40\n",
            "1/1 - 15s - loss: 0.2704 - accuracy: 0.7800 - val_loss: 0.1713 - val_accuracy: 0.8156\n",
            "Epoch 35/40\n",
            "1/1 - 13s - loss: 0.2688 - accuracy: 0.7200 - val_loss: 0.1666 - val_accuracy: 0.8186\n",
            "Epoch 36/40\n",
            "1/1 - 17s - loss: 0.3231 - accuracy: 0.7000 - val_loss: 0.1654 - val_accuracy: 0.8216\n",
            "Epoch 37/40\n",
            "1/1 - 16s - loss: 0.2924 - accuracy: 0.7400 - val_loss: 0.1625 - val_accuracy: 0.8291\n",
            "Epoch 38/40\n",
            "1/1 - 12s - loss: 0.3010 - accuracy: 0.7600 - val_loss: 0.1591 - val_accuracy: 0.8321\n",
            "Epoch 39/40\n",
            "1/1 - 12s - loss: 0.3712 - accuracy: 0.7200 - val_loss: 0.1582 - val_accuracy: 0.8336\n",
            "Epoch 40/40\n",
            "1/1 - 13s - loss: 0.2553 - accuracy: 0.6400 - val_loss: 0.1587 - val_accuracy: 0.8336\n"
          ]
        }
      ]
    },
    {
      "cell_type": "code",
      "metadata": {
        "id": "L4AzSOQoRWEc"
      },
      "source": [
        "import matplotlib.pyplot as plt\n",
        "\n",
        "def plot_acc_loss(trained_model):\n",
        "  train_acc = trained_model.history['accuracy']\n",
        "  val_acc = trained_model.history['val_accuracy']\n",
        "  train_loss = trained_model.history['loss']\n",
        "  val_loss = trained_model.history['val_loss']\n",
        "\n",
        "  plt.figure()\n",
        "  plt.plot(train_acc)\n",
        "  plt.plot(val_acc)\n",
        "  plt.title('Model Accuracy')\n",
        "  plt.xlabel('Epoch')\n",
        "  plt.ylabel('Accuracy')\n",
        "  plt.legend(['Train Accuracy', 'Validation Accuracy'], loc = 'lower right')\n",
        "  plt.show()\n",
        "\n",
        "  plt.figure()\n",
        "  plt.plot(train_loss)\n",
        "  plt.plot(val_loss)\n",
        "  plt.title('Model Loss')\n",
        "  plt.xlabel('Epoch')\n",
        "  plt.ylabel('Loss')\n",
        "  plt.legend(['Train Loss', 'Validation Loss'], loc = 'upper right')\n",
        "  plt.show()"
      ],
      "execution_count": 20,
      "outputs": []
    },
    {
      "cell_type": "code",
      "metadata": {
        "colab": {
          "base_uri": "https://localhost:8080/",
          "height": 573
        },
        "id": "QaBN2iY5RqoO",
        "outputId": "a7abb46e-eba7-4ed5-ff20-8e2015b585b7"
      },
      "source": [
        "plot_acc_loss(xcep_hist)"
      ],
      "execution_count": 21,
      "outputs": [
        {
          "output_type": "display_data",
          "data": {
            "image/png": "[encoded data removed]",
            "text/plain": [
              "<Figure size 432x288 with 1 Axes>"
            ]
          },
          "metadata": {
            "needs_background": "light"
          }
        },
        {
          "output_type": "display_data",
          "data": {
            "image/png": "[encoded data removed]",
            "text/plain": [
              "<Figure size 432x288 with 1 Axes>"
            ]
          },
          "metadata": {
            "needs_background": "light"
          }
        }
      ]
    },
    {
      "cell_type": "code",
      "metadata": {
        "colab": {
          "base_uri": "https://localhost:8080/"
        },
        "id": "2-usu9NISFsb",
        "outputId": "5df62b33-ae2f-47b8-e297-5644114412d8"
      },
      "source": [
        "# evaluate the model\n",
        "\n",
        "acc = xcep_hist.model.evaluate(test_aug)\n",
        "acc"
      ],
      "execution_count": 24,
      "outputs": [
        {
          "output_type": "stream",
          "name": "stdout",
          "text": [
            "17/17 [==============================] - 366s 23s/step - loss: 0.1487 - accuracy: 0.8405\n"
          ]
        },
        {
          "output_type": "execute_result",
          "data": {
            "text/plain": [
              "[0.1486794650554657, 0.8404762148857117]"
            ]
          },
          "metadata": {},
          "execution_count": 24
        }
      ]
    },
    {
      "cell_type": "code",
      "metadata": {
        "colab": {
          "base_uri": "https://localhost:8080/"
        },
        "id": "RgB0qJkHSV2R",
        "outputId": "956f6be1-2d36-498f-e906-09921c9a7a51"
      },
      "source": [
        "new_model = build_model(xception_model)\n",
        "new_model.load_weights('/content/drive/MyDrive/Omdena/Osun Nigeria/Model/weights_xception_fc.hdf5')\n",
        "\n",
        "predictions = new_model.predict(test_aug)\n",
        "predictions[:5]"
      ],
      "execution_count": 28,
      "outputs": [
        {
          "output_type": "execute_result",
          "data": {
            "text/plain": [
              "array([[0.21941839, 0.651176  , 0.12062262, 0.008783  ],\n",
              "       [0.4278399 , 0.04122583, 0.33149505, 0.19943923],\n",
              "       [0.03168522, 0.4980067 , 0.00884083, 0.4614672 ],\n",
              "       [0.01577614, 0.9782924 , 0.00449149, 0.00144002],\n",
              "       [0.02631811, 0.95624703, 0.00913124, 0.00830361]], dtype=float32)"
            ]
          },
          "metadata": {},
          "execution_count": 28
        }
      ]
    },
    {
      "cell_type": "code",
      "metadata": {
        "id": "uvQb21PeSkew"
      },
      "source": [
        "test_labels = test_aug.classes\n",
        "test_label_name = [cls for cls in test_aug.class_indices.keys()]"
      ],
      "execution_count": 29,
      "outputs": []
    },
    {
      "cell_type": "code",
      "metadata": {
        "colab": {
          "base_uri": "https://localhost:8080/"
        },
        "id": "atbLfXygSo9q",
        "outputId": "69cbc87c-052f-439c-8d38-b8bd736ee51e"
      },
      "source": [
        "from sklearn.metrics import accuracy_score\n",
        "\n",
        "score = accuracy_score(test_labels, predictions.argmax(axis=1))\n",
        "score"
      ],
      "execution_count": 30,
      "outputs": [
        {
          "output_type": "execute_result",
          "data": {
            "text/plain": [
              "0.2833333333333333"
            ]
          },
          "metadata": {},
          "execution_count": 30
        }
      ]
    },
    {
      "cell_type": "code",
      "metadata": {
        "colab": {
          "base_uri": "https://localhost:8080/"
        },
        "id": "mgSayhKtSrTx",
        "outputId": "5787f0f4-4173-4d97-a5b4-39f19d76da17"
      },
      "source": [
        "# import classification_report\n",
        "from sklearn.metrics import classification_report\n",
        "\n",
        "\n",
        "print(classification_report(test_labels, predictions.argmax(axis=1), target_names=test_label_name))"
      ],
      "execution_count": 31,
      "outputs": [
        {
          "output_type": "stream",
          "name": "stdout",
          "text": [
            "                precision    recall  f1-score   support\n",
            "\n",
            "        Blight       0.27      0.32      0.29       230\n",
            "   Common_Rust       0.32      0.34      0.33       262\n",
            "Gray_Leaf_Spot       0.13      0.08      0.10       115\n",
            "       Healthy       0.30      0.28      0.29       233\n",
            "\n",
            "      accuracy                           0.28       840\n",
            "     macro avg       0.26      0.26      0.25       840\n",
            "  weighted avg       0.28      0.28      0.28       840\n",
            "\n"
          ]
        }
      ]
    },
    {
      "cell_type": "code",
      "metadata": {
        "colab": {
          "base_uri": "https://localhost:8080/",
          "height": 436
        },
        "id": "6tarCI-3Srwk",
        "outputId": "b72aa372-bdcf-4032-90d0-7e41c122ca59"
      },
      "source": [
        "from sklearn.metrics import confusion_matrix\n",
        "import seaborn as sns\n",
        "import pandas as pd\n",
        "\n",
        "\n",
        "result = confusion_matrix(test_labels, predictions.argmax(axis=1))\n",
        "\n",
        "result_df = pd.DataFrame(result, columns=test_label_name, index = test_label_name)\n",
        "result_df.index.name = 'Actual'\n",
        "result_df.columns.name = 'Predicted'\n",
        "plt.figure(figsize = (7,5))\n",
        "sns.set(font_scale=1)\n",
        "sns.heatmap(result_df, cmap='Greens', annot=True,annot_kws={\"size\": 12})"
      ],
      "execution_count": 32,
      "outputs": [
        {
          "output_type": "execute_result",
          "data": {
            "text/plain": [
              "<matplotlib.axes._subplots.AxesSubplot at 0x7f29c2a1f110>"
            ]
          },
          "metadata": {},
          "execution_count": 32
        },
        {
          "output_type": "display_data",
          "data": {
            "image/png": "[encoded data removed]",
            "text/plain": [
              "<Figure size 504x360 with 2 Axes>"
            ]
          },
          "metadata": {
            "needs_background": "light"
          }
        }
      ]
    }
  ]
}