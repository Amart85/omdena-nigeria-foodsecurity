{
  "nbformat": 4,
  "nbformat_minor": 0,
  "metadata": {
    "colab": {
      "name": "OOP - Model Deployment.ipynb",
      "provenance": [],
      "collapsed_sections": [],
      "mount_file_id": "1Zj2JosWw3dEbWUUVCZWGMVgopIyXrg8u",
      "authorship_tag": "ABX9TyM1fX52hBFc8XUWA482hBVE"
    },
    "kernelspec": {
      "name": "python3",
      "display_name": "Python 3"
    },
    "language_info": {
      "name": "python"
    }
  },
  "cells": [
    {
      "cell_type": "code",
      "metadata": {
        "id": "orwu3D8Yjvm1"
      },
      "source": [
        "!pip install streamlit"
      ],
      "execution_count": null,
      "outputs": []
    },
    {
      "cell_type": "code",
      "metadata": {
        "id": "8O1OtTcAl9Uc",
        "colab": {
          "base_uri": "https://localhost:8080/"
        },
        "outputId": "a552aaba-de2b-485d-d245-4c1b463c99eb"
      },
      "source": [
        "import os\n",
        "\n",
        "os.chdir('/content/drive/MyDrive/Omdena/Osun Nigeria/OOP_App')\n",
        "\n",
        "!pwd"
      ],
      "execution_count": 3,
      "outputs": [
        {
          "output_type": "stream",
          "name": "stdout",
          "text": [
            "/content/drive/MyDrive/Omdena/Osun Nigeria/OOP_App\n"
          ]
        }
      ]
    },
    {
      "cell_type": "code",
      "metadata": {
        "colab": {
          "base_uri": "https://localhost:8080/"
        },
        "id": "-y8EM9QokOLT",
        "outputId": "8dfdeab4-ef49-46a1-c029-9fcfc40807e5"
      },
      "source": [
        "%%writefile app.py\n",
        "\n",
        "import streamlit as st\n",
        "from apps import home, crop_disease_detector, crop_detector\n",
        "from PIL import Image\n",
        "\n",
        "with st.container():\n",
        "    proj_title_col, logo_col = st.columns([6,1])\n",
        "\n",
        "    with proj_title_col:\n",
        "      st.subheader('Improving Food Security in Nigeria')\n",
        "\n",
        "    with logo_col:\n",
        "      logo = Image.open('/content/drive/MyDrive/Omdena/Osun Nigeria/App/osun_chapter.png')\n",
        "      logo = logo.resize((75,75))\n",
        "      st.image(logo)\n",
        "\n",
        "PAGES = {\n",
        "    \"Home\": home,\n",
        "    \"Crop Disease Detection\": crop_disease_detector,\n",
        "    'Crop Classification': crop_detector\n",
        "}\n",
        "\n",
        "selection = st.sidebar.radio(\"Menu\", list(PAGES.keys()))\n",
        "page = PAGES[selection]\n",
        "\n",
        "page.app()"
      ],
      "execution_count": 8,
      "outputs": [
        {
          "output_type": "stream",
          "name": "stdout",
          "text": [
            "Overwriting app.py\n"
          ]
        }
      ]
    },
    {
      "cell_type": "code",
      "metadata": {
        "colab": {
          "base_uri": "https://localhost:8080/"
        },
        "id": "TgQQVlqqkyf6",
        "outputId": "7c721997-1062-437b-c10c-dfba906c4840"
      },
      "source": [
        "%%writefile apps/home.py\n",
        "\n",
        "import streamlit as st\n",
        "\n",
        "def app():\n",
        "  st.subheader('Problem Statement')\n",
        "  st.write(\"According to the Food and Agriculture Organisation of the United Nations, 2018, \\\n",
        "  approximately 88 % of the farmers in Nigeria engage in \\\n",
        "  agricultural production at a subsistence level, and they lack sustainable \\\n",
        "  farming knowledge and practices. Also, Nigeria is endowed with \\\n",
        "  different climatic conditions and soil quality which leads to lackluster \\\n",
        "  crop production. \")\n",
        "\n",
        "  st.markdown('##')\n",
        "\n",
        "  st.subheader('Objectives of the Project')\n",
        "  st.write('This project is aimed at helping farmers to boost their \\\n",
        "  farm produce and plan their farming system.')"
      ],
      "execution_count": null,
      "outputs": [
        {
          "output_type": "stream",
          "name": "stdout",
          "text": [
            "Writing apps/home.py\n"
          ]
        }
      ]
    },
    {
      "cell_type": "code",
      "metadata": {
        "id": "CPh6wHG_yc0j",
        "colab": {
          "base_uri": "https://localhost:8080/"
        },
        "outputId": "c7ef57e3-dfa2-4dcb-b5cc-3696b9155ae4"
      },
      "source": [
        "%%writefile apps/app_detector.py\n",
        "\n",
        "import streamlit as st\n",
        "import tensorflow as tf\n",
        "import numpy as np\n",
        "from tensorflow.keras.applications.resnet50 import preprocess_input\n",
        "from keras.preprocessing.image import img_to_array\n",
        "from PIL import Image\n",
        "import cv2\n",
        "import utils\n",
        "\n",
        "class AppDetector:\n",
        "\n",
        "  def __init__(self, data, target_size):\n",
        "    self.data = data\n",
        "    self.target_size = target_size\n",
        "  \n",
        "\n",
        "  def app(self):\n",
        "    new_image = ''\n",
        "    has_pred = False\n",
        "    has_replaced_image = False\n",
        "    pred = ''\n",
        "\n",
        "    model = utils.load_model(self.data)\n",
        "\n",
        "    \n",
        "    with st.container():\n",
        "        upload_col, predict_col = st.columns([6,1])\n",
        "        with upload_col:\n",
        "          \n",
        "          #Upload the image\n",
        "          uploaded_file = st.file_uploader('Choose a file',type=[\"jpg\", 'png'])\n",
        "          if uploaded_file is not None:\n",
        "            img = Image.open(uploaded_file)\n",
        "            img_display = img.resize((700, 500))\n",
        "            st.image(img_display)\n",
        "\n",
        "            #Preprocess image\n",
        "            if self.data == 'Crops':\n",
        "              img = utils.crop_preprocess_img(img, self.target_size)\n",
        "            else:\n",
        "              img = utils.disease_preprocess_img(img, self.target_size)\n",
        "            \n",
        "            new_image = img\n",
        "            has_replaced_image = True\n",
        "            \n",
        "            \n",
        "        with predict_col:\n",
        "          #Predict the disease label for the image\n",
        "            if st.button('Predict'):\n",
        "              if has_replaced_image:\n",
        "                predictions = utils.predict(new_image, model)\n",
        "                pred = np.argmax(predictions)\n",
        "                has_pred = True\n",
        "              else:\n",
        "                st.error('Please upload an image')\n",
        "\n",
        "    #This container is for the description of the predicted disease of the image            \n",
        "    with st.container():\n",
        "      if has_pred:\n",
        "        if self.data == 'Crops':\n",
        "          st.title(utils.get_class(self.data, pred))\n",
        "          st.write(predictions)\n",
        "        else:\n",
        "          with st.expander(\"Read disease description\"):\n",
        "            disease = utils.get_class(self.data, pred)\n",
        "            st.title(disease)\n",
        "            disease_desc = utils.get_description(disease)\n",
        "            st.markdown(disease_desc, unsafe_allow_html=True)"
      ],
      "execution_count": 29,
      "outputs": [
        {
          "output_type": "stream",
          "name": "stdout",
          "text": [
            "Overwriting apps/app_detector.py\n"
          ]
        }
      ]
    },
    {
      "cell_type": "code",
      "metadata": {
        "colab": {
          "base_uri": "https://localhost:8080/"
        },
        "id": "RJK6tuiz3vrZ",
        "outputId": "3db225c2-b016-4a4d-e60a-db9ad42967b7"
      },
      "source": [
        "%%writefile apps/crop_disease_detector.py\n",
        "\n",
        "import streamlit as st\n",
        "from apps.app_detector import AppDetector\n",
        "\n",
        "TARGET_SIZE = 100\n",
        "\n",
        "def app(): \n",
        "  selection = st.selectbox('Crop Dataset', ('Maize', 'Rice'))\n",
        "  app_detect = AppDetector(selection, TARGET_SIZE)\n",
        "  app_detect.app()"
      ],
      "execution_count": null,
      "outputs": [
        {
          "output_type": "stream",
          "name": "stdout",
          "text": [
            "Overwriting apps/crop_disease_detector.py\n"
          ]
        }
      ]
    },
    {
      "cell_type": "code",
      "metadata": {
        "colab": {
          "base_uri": "https://localhost:8080/"
        },
        "id": "m7QRxwVy_HCh",
        "outputId": "30e8b7db-ba47-4ded-ad4f-505b221b2f63"
      },
      "source": [
        "%%writefile apps/crop_detector.py\n",
        "\n",
        "import streamlit as st\n",
        "from apps.app_detector import AppDetector\n",
        "\n",
        "TARGET_SIZE = 224\n",
        "\n",
        "def app():\n",
        "  app_detect = AppDetector('Crops', TARGET_SIZE)\n",
        "  app_detect.app()"
      ],
      "execution_count": null,
      "outputs": [
        {
          "output_type": "stream",
          "name": "stdout",
          "text": [
            "Writing apps/crop_detector.py\n"
          ]
        }
      ]
    },
    {
      "cell_type": "code",
      "metadata": {
        "colab": {
          "base_uri": "https://localhost:8080/"
        },
        "id": "q9-AVuU7fQtW",
        "outputId": "1207be20-3d34-42e2-eba3-01928db2bfc5"
      },
      "source": [
        "%%writefile utils.py\n",
        "\n",
        "import streamlit as st\n",
        "import tensorflow as tf\n",
        "import numpy as np\n",
        "from tensorflow.keras.applications.resnet50 import preprocess_input\n",
        "from keras.preprocessing.image import img_to_array\n",
        "from PIL import Image\n",
        "import cv2\n",
        "\n",
        "\n",
        "def load_model(dataset):\n",
        "  \"\"\"\n",
        "  Loads the models.\n",
        "  \"\"\"\n",
        "\n",
        "  if dataset == 'Maize':\n",
        "    model = tf.keras.models.load_model('/content/drive/MyDrive/Omdena/Osun Nigeria/Model/model_maize_final.h5')\n",
        "  elif dataset == 'Rice':\n",
        "    model = tf.keras.models.load_model('/content/drive/MyDrive/Omdena/Osun Nigeria/Model/model_rice.h5')\n",
        "  elif dataset == 'Crops':\n",
        "    model = tf.keras.models.load_model('/content/drive/MyDrive/crop_classification.h5')\n",
        "  return model\n",
        "\n",
        "def crop_preprocess_img(image, TARGET_SIZE):\n",
        "  pil_img_rgb = image.convert('RGB') \n",
        "  cv2_img = np.array(pil_img_rgb) #convert PIL Image to cv2 format\n",
        "  #img = cv2.cvtColor(image, cv2.COLOR_BGR2RGB) #convert BGR to RGB\n",
        "  img = cv2.resize(cv2_img, (TARGET_SIZE, TARGET_SIZE)) #resize the image to (224, 224)\n",
        "  img = img_to_array(img) #convert to numpy array\n",
        "  img = img/255 #normalize the image\n",
        "  img = np.expand_dims(img, axis = 0) #expands dimension to one sample\n",
        "  return img\n",
        "\n",
        "def disease_preprocess_img(image, TARGET_SIZE):\n",
        "  \"\"\" Preprocess the image in the same way the images for model building were processed. \n",
        "  \n",
        "  image: uploaded image\n",
        "\n",
        "  Returns: image preprocessed using resnet50's preprocess_input\n",
        "  \"\"\"\n",
        "\n",
        "  img = image.resize((TARGET_SIZE, TARGET_SIZE))\n",
        "  img = img_to_array(img) #convert to numpy array\n",
        "  img = np.expand_dims(img, axis = 0) #expands dimension to one sample\n",
        "  img = preprocess_input(img) #preprocess function by resnet50\n",
        "  return img\n",
        "\n",
        "def predict(image, model):\n",
        "  \"\"\" Predicts the disease of the image.\n",
        "\n",
        "  image: preprocessed image\n",
        "  model: model for maize or rice leaf disease datasets\n",
        "\n",
        "  Returns: probability for each class/disease\n",
        "  \"\"\"\n",
        "  predictions = model.predict(image)\n",
        "  return predictions\n",
        "\n",
        "def get_class(crop, idx):\n",
        "  \"\"\" Gets the disease label for the predicted image.\n",
        "\n",
        "  crop: crop type - maize or rice\n",
        "  idx: column index of the class with the highest probability in the predictions\n",
        "\n",
        "  Returns: disease label\n",
        "\n",
        "  \"\"\"\n",
        "  if crop == 'Maize':\n",
        "    CLASSES = {\n",
        "        0: 'Blight',\n",
        "        1: 'Common Rust',\n",
        "        2: 'Gray Leaf Spot',\n",
        "        3: 'Healthy'\n",
        "    }\n",
        "  elif crop == 'Rice':\n",
        "    CLASSES = {\n",
        "        0: 'Bacterial Leaf Blight',\n",
        "        1: 'Brown Spot',\n",
        "        2: 'Leaf Smut'\n",
        "    }\n",
        "  elif crop == 'Crops':\n",
        "    CLASSES = {\n",
        "        0: 'Rice',\n",
        "        1: 'Maize'\n",
        "    }\n",
        "\n",
        "  return CLASSES[idx]\n",
        "\n",
        "def get_description(disease):\n",
        "  \"\"\" Gets the disease description\n",
        "\n",
        "    disease: predicted disease for the image\n",
        "  \"\"\"\n",
        "  maize_blight = f\"\"\"\n",
        "  <p> \n",
        "  The tan lesions of northern corn leaf blight are slender and oblong tapering at the ends ranging in size between 1 to 6 inches. </p>\n",
        "  <p>Lesions run parallel to the leaf margins beginning on the lower leaves and moving up the plant. They may coalesce and cover the enter leaf.\n",
        "  </p>\n",
        "  <p>Spores are produced on the underside of the leaf below the lesions giving the appearance of a dusty green fuzz.</p>\n",
        "\n",
        "  <p> <i>Source: https://cals.cornell.edu/field-crops/corn/diseases-corn/</i></p>\n",
        "  \"\"\"\n",
        "\n",
        "  maize_common_rust = f\"\"\"\n",
        "  <p> Common rust is caused by the fungus Puccinia sorghi. </p>\n",
        "  <p>Small, round to elongate brown pustules form on both leaf surfaces and other above ground parts of the plant. </p>\n",
        "  <p>As the pustules mature they become brown to black. If disease is severe, the leaves may yellow and die early\n",
        "  </p>\n",
        "\n",
        "  <p> <i>Source: https://cals.cornell.edu/field-crops/corn/diseases-corn/</i></p>\n",
        "  \"\"\"\n",
        "  maize_gray_leaf_spot = f\"\"\"\n",
        "  <p> Gray leaf spot is caused by the fungus Cercospora zeae-maydis. \n",
        "  Lesions start as a small dot surrounded by yellow halo, and then will elongate over time parallel to the veins becoming pale brown to gray.\n",
        "  </p>\n",
        "\n",
        "  <p> <i>Source: https://cals.cornell.edu/field-crops/corn/diseases-corn/</i></p>\n",
        "  \"\"\"\n",
        "\n",
        "  maize_healthy = f\"\"\"\n",
        "  <p> Healthy\n",
        "  </p>\n",
        "  \"\"\"\n",
        "\n",
        "  rice_bacterial_leaf_blight = f\"\"\"\n",
        "  <p> Rice Bacterial Blight is a deadly bacterial disease that is among the most destructive afflictions of cultivated rice (Oryza sativa and O. glaberrima). \n",
        "  In severe epidemics, crop loss may be as high as 75 percent, and millions of hectares of rice are infected annually.\n",
        "  </p>\n",
        "  \"\"\"\n",
        "\n",
        "  rice_brown_spot = f\"\"\"\n",
        "  <p> Brown spot is caused by the fungus Cochliobolus miyabeanus. Also called Helminthosporium leaf spot, it is one of the most prevalent rice diseases. \n",
        "  It is a fungal disease that infects the coleoptile, leaves, leaf sheath, panicle branches, glumes, and spikelets.\n",
        "  </p>\n",
        "  \"\"\"\n",
        "\n",
        "  rice_leaf_smut = f\"\"\"\n",
        "  <p> Leaf smut, caused by the fungus Entyloma oryzae, is a widely distributed, but somewhat minor, disease of rice. \n",
        "  The fungus produces slightly raised, angular, black spots (sori) on both sides of the leaves.\n",
        "  </p>\n",
        "  \"\"\"\n",
        "\n",
        "  dict_description = {\n",
        "      'Blight': maize_blight,\n",
        "      'Common Rust': maize_common_rust,\n",
        "      'Gray Leaf Spot': maize_gray_leaf_spot,\n",
        "      'Healthy': maize_healthy,\n",
        "      'Bacterial Leaf Blight': rice_bacterial_leaf_blight,\n",
        "      'Brown Spot': rice_brown_spot,\n",
        "      'Leaf Smut': rice_leaf_smut\n",
        "  }\n",
        "\n",
        "  return dict_description[disease]\n"
      ],
      "execution_count": 32,
      "outputs": [
        {
          "output_type": "stream",
          "name": "stdout",
          "text": [
            "Overwriting utils.py\n"
          ]
        }
      ]
    },
    {
      "cell_type": "code",
      "metadata": {
        "colab": {
          "base_uri": "https://localhost:8080/"
        },
        "id": "cEfSRQWanSlj",
        "outputId": "3bdcefc6-3788-4920-fb75-82151411d0d5"
      },
      "source": [
        "!streamlit run app.py & npx localtunnel --port 8501"
      ],
      "execution_count": 33,
      "outputs": [
        {
          "output_type": "stream",
          "name": "stdout",
          "text": [
            "\u001b[K\u001b[?25hnpx: installed 22 in 2.785s\n",
            "your url is: https://white-bullfrog-36.loca.lt\n",
            "\u001b[0m\n",
            "\u001b[34m\u001b[1m  You can now view your Streamlit app in your browser.\u001b[0m\n",
            "\u001b[0m\n",
            "\u001b[34m  Network URL: \u001b[0m\u001b[1mhttp://172.28.0.2:8501\u001b[0m\n",
            "\u001b[34m  External URL: \u001b[0m\u001b[1mhttp://34.82.228.228:8501\u001b[0m\n",
            "\u001b[0m\n",
            "2021-10-29 17:39:33.732947: E tensorflow/stream_executor/cuda/cuda_driver.cc:271] failed call to cuInit: CUDA_ERROR_NO_DEVICE: no CUDA-capable device is detected\n",
            "2021-10-29 17:39:33.733031: I tensorflow/stream_executor/cuda/cuda_diagnostics.cc:156] kernel driver does not appear to be running on this host (b81b54e114ac): /proc/driver/nvidia/version does not exist\n",
            "2021-10-29 17:39:51.292838: I tensorflow/compiler/mlir/mlir_graph_optimization_pass.cc:185] None of the MLIR Optimization Passes are enabled (registered 2)\n",
            "2021-10-29 17:54:18.615 5 out of the last 5 calls to <function Model.make_predict_function.<locals>.predict_function at 0x7ff8262c0f80> triggered tf.function retracing. Tracing is expensive and the excessive number of tracings could be due to (1) creating @tf.function repeatedly in a loop, (2) passing tensors with different shapes, (3) passing Python objects instead of tensors. For (1), please define your @tf.function outside of the loop. For (2), @tf.function has experimental_relax_shapes=True option that relaxes argument shapes that can avoid unnecessary retracing. For (3), please refer to https://www.tensorflow.org/guide/function#controlling_retracing and https://www.tensorflow.org/api_docs/python/tf/function for  more details.\n",
            "2021-10-29 17:56:24.560 6 out of the last 6 calls to <function Model.make_predict_function.<locals>.predict_function at 0x7ff8262c5f80> triggered tf.function retracing. Tracing is expensive and the excessive number of tracings could be due to (1) creating @tf.function repeatedly in a loop, (2) passing tensors with different shapes, (3) passing Python objects instead of tensors. For (1), please define your @tf.function outside of the loop. For (2), @tf.function has experimental_relax_shapes=True option that relaxes argument shapes that can avoid unnecessary retracing. For (3), please refer to https://www.tensorflow.org/guide/function#controlling_retracing and https://www.tensorflow.org/api_docs/python/tf/function for  more details.\n",
            "\u001b[34m  Stopping...\u001b[0m\n",
            "^C\n"
          ]
        }
      ]
    }
  ]
}